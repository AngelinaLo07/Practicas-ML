{
 "cells": [
  {
   "cell_type": "code",
   "execution_count": 15,
   "metadata": {
    "vscode": {
     "languageId": "r"
    }
   },
   "outputs": [
    {
     "name": "stderr",
     "output_type": "stream",
     "text": [
      "Installing package into 'C:/Users/lopez/AppData/Local/R/win-library/4.2'\n",
      "(as 'lib' is unspecified)\n",
      "\n",
      "Warning message:\n",
      "\"package 'SMLMS/pguIMP' is not available for this version of R\n",
      "\n",
      "A version of this package for your version of R might be available elsewhere,\n",
      "see the ideas at\n",
      "https://cran.r-project.org/doc/manuals/r-patched/R-admin.html#Installing-packages\"\n"
     ]
    }
   ],
   "source": [
    "#install.packages(\"remotes\")\n",
    "#remotes::install_github(\"SMLMS/pguIMP\")\n",
    "install.packages(\"SMLMS/pguIMP\")"
   ]
  },
  {
   "cell_type": "code",
   "execution_count": 20,
   "metadata": {
    "vscode": {
     "languageId": "r"
    }
   },
   "outputs": [
    {
     "ename": "ERROR",
     "evalue": "Error in library(SMLMS/pguIMP): 'package' must be of length 1\n",
     "output_type": "error",
     "traceback": [
      "Error in library(SMLMS/pguIMP): 'package' must be of length 1\nTraceback:\n",
      "1. library(SMLMS/pguIMP)",
      "2. stop(\"'package' must be of length 1\")"
     ]
    }
   ],
   "source": [
    "#install.packages(\"remotes\")\n",
    "#remotes::install_github(\"SMLMS/pguIMP\")\n",
    "#install.packages(\"SMLMS/pguIMP\")\n",
    "library(SMLMS/pguIMP)\n",
    "library(tidyverse)\n",
    "library(gifski)\n",
    "library(gganimate)\n",
    "library(plotly)\n",
    "library(RColorBrewer)\n",
    "library(wesanderson)"
   ]
  },
  {
   "cell_type": "code",
   "execution_count": 7,
   "metadata": {
    "vscode": {
     "languageId": "r"
    }
   },
   "outputs": [],
   "source": [
    "# codigo limpieza y manipulación \n",
    "casos_diarios <-  read.csv(file = \"Casos_Diarios_Estado_Nacional.csv\")\n",
    "casos_diario_list <- gather(casos_diarios,key =\"dias\",value=\"infectados\",4:856)\n",
    "\n",
    "normalizarfecha <- function(fecha){\n",
    "    return(str_replace_all(fecha,\"X\",\"\")  %>% str_replace_all(\"\\\\.\",\"/\"))\n",
    "}\n",
    "\n",
    "cod_Meses <- function(x) {\n",
    "    labels_meses <- c(\n",
    "        \"Ene\",\"Feb\",\"Mar\",\"Abr\",\"May\",\"Jun\",\n",
    "        \"Jul\",\"Ago\",\"Sep\",\"Oct\",\"Nov\",\"Dic\")\n",
    "    return(factor(x,levels = (1:12),labels = labels_meses))\n",
    "}\n",
    "\n",
    "\n",
    "cod_dias <- function(x) {\n",
    "    labels_dias <- c(\n",
    "        \"Miercoles\",\"Jueves\",\"Viernes\",\"Sabado\",\"Domingo\",\"Lunes\",\n",
    "        \"Martes\")\n",
    "    return(factor(x,levels = (1:7),labels = labels_dias))\n",
    "}\n",
    "\n",
    "\n",
    "\n",
    "fecha = map(casos_diario_list[4],normalizarfecha)\n",
    "casos_diarios_fecha <- cbind(casos_diario_list[c(TRUE,TRUE,TRUE,FALSE,TRUE)],fecha)\n",
    "casos_diarios_fecha <- casos_diarios_fecha[c(1,2,3,5,4)]\n",
    "\n",
    "datos <- separate( data = casos_diarios_fecha,\n",
    "                   col =dias,\n",
    "                   into = c(\"dia\",\"mes\",\"año\"),\n",
    "                   sep = '/',\n",
    "                   remove = FALSE)\n",
    "\n",
    "\n",
    "#recordatorio\n",
    "datos <- datos %>% \n",
    "    mutate(mest_txt = cod_Meses(as.integer(mes))) %>% \n",
    "    mutate(consecutivo = 1:28149) %>% \n",
    "    transform(dias = as.Date(dias,\"%d/%m/%Y\"))\n",
    "datosnacional <-  datos %>% \n",
    "    filter(nombre == \"Nacional\") %>% \n",
    "    mutate(consecutivo = 1:853)%>% \n",
    "    filter(año == \"2020\")\n",
    "\n",
    "\n",
    "datosnacional$diasem<-format(as.Date(datosnacional$dias),\"%A\")\n",
    "#unique(datos$diasem)\n",
    "datos2 <- datosnacional\n",
    "\n",
    "datos2$infectados[datos2$diasem == \"sábado\"] <- NA \n",
    "datos2$infectados[datos2$diasem == \"domingo\"] <- NA\n"
   ]
  },
  {
   "cell_type": "code",
   "execution_count": 8,
   "metadata": {
    "vscode": {
     "languageId": "r"
    }
   },
   "outputs": [
    {
     "ename": "ERROR",
     "evalue": "Error in knnImputation(datos2, k = 5, scale = FALSE, meth = \"weighAvg\", : no se pudo encontrar la función \"knnImputation\"\n",
     "output_type": "error",
     "traceback": [
      "Error in knnImputation(datos2, k = 5, scale = FALSE, meth = \"weighAvg\", : no se pudo encontrar la función \"knnImputation\"\nTraceback:\n"
     ]
    }
   ],
   "source": [
    "# ejercicio\n",
    "datos2 <- select(datos2,cve_ent,poblacion,infectados,consecutivo)\n",
    "\n",
    "# Fill in NA values with the values of the nearest neighbours\n",
    "datosimputed<- knnImputation(datos2, k = 5, scale = FALSE, meth = \"weighAvg\", distData = NULL)\n",
    "\n",
    "resultado <- rbind(datosimputed, select(datosnacional,cve_ent,poblacion,infectados, consecutivo,nombre)) \n",
    "#resultado\n",
    "\n",
    "ggplot(resultado,aes(x = consecutivo, y = infectados, group = nombre, color = as.factor(nombre)))+\n",
    "                geom_point()+geom_line()\n"
   ]
  }
 ],
 "metadata": {
  "kernelspec": {
   "display_name": "R",
   "language": "R",
   "name": "ir"
  },
  "language_info": {
   "codemirror_mode": "r",
   "file_extension": ".r",
   "mimetype": "text/x-r-source",
   "name": "R",
   "pygments_lexer": "r",
   "version": "4.2.1"
  },
  "orig_nbformat": 4,
  "vscode": {
   "interpreter": {
    "hash": "8798afc6967fe6dcc22cf06f87428510b90b9aa97c2c54f451a8b72ac0ad6005"
   }
  }
 },
 "nbformat": 4,
 "nbformat_minor": 2
}

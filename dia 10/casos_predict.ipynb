{
 "cells": [
  {
   "cell_type": "markdown",
   "metadata": {},
   "source": [
    "# Prediccion de casos covid \n",
    "\n",
    "En 3 entidades de la republica usando un ANN Backpropagation\n"
   ]
  },
  {
   "cell_type": "code",
   "execution_count": 2,
   "metadata": {
    "vscode": {
     "languageId": "r"
    }
   },
   "outputs": [
    {
     "name": "stderr",
     "output_type": "stream",
     "text": [
      "── \u001b[1mAttaching packages\u001b[22m ─────────────────────────────────────── tidyverse 1.3.1 ──\n",
      "\n",
      "\u001b[32m✔\u001b[39m \u001b[34mggplot2\u001b[39m 3.3.6     \u001b[32m✔\u001b[39m \u001b[34mpurrr  \u001b[39m 0.3.4\n",
      "\u001b[32m✔\u001b[39m \u001b[34mtibble \u001b[39m 3.1.7     \u001b[32m✔\u001b[39m \u001b[34mdplyr  \u001b[39m 1.0.9\n",
      "\u001b[32m✔\u001b[39m \u001b[34mtidyr  \u001b[39m 1.2.0     \u001b[32m✔\u001b[39m \u001b[34mstringr\u001b[39m 1.4.0\n",
      "\u001b[32m✔\u001b[39m \u001b[34mreadr  \u001b[39m 2.1.2     \u001b[32m✔\u001b[39m \u001b[34mforcats\u001b[39m 0.5.1\n",
      "\n",
      "── \u001b[1mConflicts\u001b[22m ────────────────────────────────────────── tidyverse_conflicts() ──\n",
      "\u001b[31m✖\u001b[39m \u001b[34mdplyr\u001b[39m::\u001b[32mfilter()\u001b[39m masks \u001b[34mstats\u001b[39m::filter()\n",
      "\u001b[31m✖\u001b[39m \u001b[34mdplyr\u001b[39m::\u001b[32mlag()\u001b[39m    masks \u001b[34mstats\u001b[39m::lag()\n",
      "\n",
      "\n",
      "Attaching package: 'plotly'\n",
      "\n",
      "\n",
      "The following object is masked from 'package:ggplot2':\n",
      "\n",
      "    last_plot\n",
      "\n",
      "\n",
      "The following object is masked from 'package:stats':\n",
      "\n",
      "    filter\n",
      "\n",
      "\n",
      "The following object is masked from 'package:graphics':\n",
      "\n",
      "    layout\n",
      "\n",
      "\n"
     ]
    }
   ],
   "source": [
    "library(gifski)\n",
    "library(tidyverse)\n",
    "library(gganimate)\n",
    "library(plotly)\n",
    "library(RColorBrewer)\n",
    "library(wesanderson)"
   ]
  },
  {
   "cell_type": "markdown",
   "metadata": {},
   "source": [
    "Cargando y limpiando datos"
   ]
  },
  {
   "cell_type": "code",
   "execution_count": 3,
   "metadata": {
    "vscode": {
     "languageId": "r"
    }
   },
   "outputs": [],
   "source": [
    "# FUNCIONES para la limpieza de la DB\n",
    "\n",
    "normalizarfecha <- function(fecha){\n",
    "    return(str_replace_all(fecha,\"X\",\"\")  %>% str_replace_all(\"\\\\.\",\"/\"))\n",
    "}\n",
    "\n",
    "cod_Meses <- function(x) {\n",
    "    labels_meses <- c(\n",
    "        \"Ene\",\"Feb\",\"Mar\",\"Abr\",\"May\",\"Jun\",\n",
    "        \"Jul\",\"Ago\",\"Sep\",\"Oct\",\"Nov\",\"Dic\")\n",
    "    return(factor(x,levels = (1:12),labels = labels_meses))\n",
    "}\n",
    "    \n",
    "cod_dias <- function(x) {\n",
    "    labels_dias <- c(\"Miercoles\",\"Jueves\",\"Viernes\",\"Sabado\",\"Domingo\",\"Lunes\",\"Martes\")\n",
    "    return(factor(x,levels = (1:7),labels = labels_dias))\n",
    "}\n"
   ]
  },
  {
   "cell_type": "code",
   "execution_count": 11,
   "metadata": {
    "vscode": {
     "languageId": "r"
    }
   },
   "outputs": [
    {
     "name": "stdout",
     "output_type": "stream",
     "text": [
      "'data.frame':\t28149 obs. of  5 variables:\n",
      " $ cve_ent   : int  1 2 3 4 7 8 9 5 6 10 ...\n",
      " $ poblacion : int  1434635 3634868 804708 1000617 5730367 3801487 9018645 3218720 785153 1868996 ...\n",
      " $ nombre    : chr  \"AGUASCALIENTES\" \"BAJA CALIFORNIA\" \"BAJA CALIFORNIA SUR\" \"CAMPECHE\" ...\n",
      " $ dias      : chr  \"X26.02.2020\" \"X26.02.2020\" \"X26.02.2020\" \"X26.02.2020\" ...\n",
      " $ infectados: int  0 0 0 0 0 0 0 0 0 0 ...\n"
     ]
    },
    {
     "data": {
      "text/html": [
       "<table class=\"dataframe\">\n",
       "<caption>A data.frame: 6 × 10</caption>\n",
       "<thead>\n",
       "\t<tr><th></th><th scope=col>cve_ent</th><th scope=col>poblacion</th><th scope=col>nombre</th><th scope=col>infectados</th><th scope=col>dias</th><th scope=col>dia</th><th scope=col>mes</th><th scope=col>año</th><th scope=col>mes_txt</th><th scope=col>consecutivo</th></tr>\n",
       "\t<tr><th></th><th scope=col>&lt;int&gt;</th><th scope=col>&lt;int&gt;</th><th scope=col>&lt;chr&gt;</th><th scope=col>&lt;int&gt;</th><th scope=col>&lt;date&gt;</th><th scope=col>&lt;chr&gt;</th><th scope=col>&lt;chr&gt;</th><th scope=col>&lt;chr&gt;</th><th scope=col>&lt;fct&gt;</th><th scope=col>&lt;int&gt;</th></tr>\n",
       "</thead>\n",
       "<tbody>\n",
       "\t<tr><th scope=row>1</th><td>1</td><td>1434635</td><td>AGUASCALIENTES     </td><td>0</td><td>2020-02-26</td><td>26</td><td>02</td><td>2020</td><td>Feb</td><td>1</td></tr>\n",
       "\t<tr><th scope=row>2</th><td>2</td><td>3634868</td><td>BAJA CALIFORNIA    </td><td>0</td><td>2020-02-26</td><td>26</td><td>02</td><td>2020</td><td>Feb</td><td>2</td></tr>\n",
       "\t<tr><th scope=row>3</th><td>3</td><td> 804708</td><td>BAJA CALIFORNIA SUR</td><td>0</td><td>2020-02-26</td><td>26</td><td>02</td><td>2020</td><td>Feb</td><td>3</td></tr>\n",
       "\t<tr><th scope=row>4</th><td>4</td><td>1000617</td><td>CAMPECHE           </td><td>0</td><td>2020-02-26</td><td>26</td><td>02</td><td>2020</td><td>Feb</td><td>4</td></tr>\n",
       "\t<tr><th scope=row>5</th><td>7</td><td>5730367</td><td>CHIAPAS            </td><td>0</td><td>2020-02-26</td><td>26</td><td>02</td><td>2020</td><td>Feb</td><td>5</td></tr>\n",
       "\t<tr><th scope=row>6</th><td>8</td><td>3801487</td><td>CHIHUAHUA          </td><td>0</td><td>2020-02-26</td><td>26</td><td>02</td><td>2020</td><td>Feb</td><td>6</td></tr>\n",
       "</tbody>\n",
       "</table>\n"
      ],
      "text/latex": [
       "A data.frame: 6 × 10\n",
       "\\begin{tabular}{r|llllllllll}\n",
       "  & cve\\_ent & poblacion & nombre & infectados & dias & dia & mes & año & mes\\_txt & consecutivo\\\\\n",
       "  & <int> & <int> & <chr> & <int> & <date> & <chr> & <chr> & <chr> & <fct> & <int>\\\\\n",
       "\\hline\n",
       "\t1 & 1 & 1434635 & AGUASCALIENTES      & 0 & 2020-02-26 & 26 & 02 & 2020 & Feb & 1\\\\\n",
       "\t2 & 2 & 3634868 & BAJA CALIFORNIA     & 0 & 2020-02-26 & 26 & 02 & 2020 & Feb & 2\\\\\n",
       "\t3 & 3 &  804708 & BAJA CALIFORNIA SUR & 0 & 2020-02-26 & 26 & 02 & 2020 & Feb & 3\\\\\n",
       "\t4 & 4 & 1000617 & CAMPECHE            & 0 & 2020-02-26 & 26 & 02 & 2020 & Feb & 4\\\\\n",
       "\t5 & 7 & 5730367 & CHIAPAS             & 0 & 2020-02-26 & 26 & 02 & 2020 & Feb & 5\\\\\n",
       "\t6 & 8 & 3801487 & CHIHUAHUA           & 0 & 2020-02-26 & 26 & 02 & 2020 & Feb & 6\\\\\n",
       "\\end{tabular}\n"
      ],
      "text/markdown": [
       "\n",
       "A data.frame: 6 × 10\n",
       "\n",
       "| <!--/--> | cve_ent &lt;int&gt; | poblacion &lt;int&gt; | nombre &lt;chr&gt; | infectados &lt;int&gt; | dias &lt;date&gt; | dia &lt;chr&gt; | mes &lt;chr&gt; | año &lt;chr&gt; | mes_txt &lt;fct&gt; | consecutivo &lt;int&gt; |\n",
       "|---|---|---|---|---|---|---|---|---|---|---|\n",
       "| 1 | 1 | 1434635 | AGUASCALIENTES      | 0 | 2020-02-26 | 26 | 02 | 2020 | Feb | 1 |\n",
       "| 2 | 2 | 3634868 | BAJA CALIFORNIA     | 0 | 2020-02-26 | 26 | 02 | 2020 | Feb | 2 |\n",
       "| 3 | 3 |  804708 | BAJA CALIFORNIA SUR | 0 | 2020-02-26 | 26 | 02 | 2020 | Feb | 3 |\n",
       "| 4 | 4 | 1000617 | CAMPECHE            | 0 | 2020-02-26 | 26 | 02 | 2020 | Feb | 4 |\n",
       "| 5 | 7 | 5730367 | CHIAPAS             | 0 | 2020-02-26 | 26 | 02 | 2020 | Feb | 5 |\n",
       "| 6 | 8 | 3801487 | CHIHUAHUA           | 0 | 2020-02-26 | 26 | 02 | 2020 | Feb | 6 |\n",
       "\n"
      ],
      "text/plain": [
       "  cve_ent poblacion nombre              infectados dias       dia mes año \n",
       "1 1       1434635   AGUASCALIENTES      0          2020-02-26 26  02  2020\n",
       "2 2       3634868   BAJA CALIFORNIA     0          2020-02-26 26  02  2020\n",
       "3 3        804708   BAJA CALIFORNIA SUR 0          2020-02-26 26  02  2020\n",
       "4 4       1000617   CAMPECHE            0          2020-02-26 26  02  2020\n",
       "5 7       5730367   CHIAPAS             0          2020-02-26 26  02  2020\n",
       "6 8       3801487   CHIHUAHUA           0          2020-02-26 26  02  2020\n",
       "  mes_txt consecutivo\n",
       "1 Feb     1          \n",
       "2 Feb     2          \n",
       "3 Feb     3          \n",
       "4 Feb     4          \n",
       "5 Feb     5          \n",
       "6 Feb     6          "
      ]
     },
     "metadata": {},
     "output_type": "display_data"
    }
   ],
   "source": [
    "# Leyendo la base de datos\n",
    "casos <-  read.csv(file=\"Casos_Diarios_Estado_Nacional.csv\")\n",
    "casos_diario_list <- gather(casos,key =\"dias\",value=\"infectados\",4:856)\n",
    "str(casos_diario_list)\n",
    "#Normalizando fecha\n",
    "fecha <-map(casos_diario_list[4],normalizarfecha)\n",
    "casos_diarios_fecha <- cbind(casos_diario_list[c(TRUE,TRUE,TRUE,FALSE,TRUE)],fecha)\n",
    "\n",
    "datos <- separate(data=casos_diarios_fecha,\n",
    "                col=dias,\n",
    "                into= c(\"dia\",\"mes\",\"año\"),\n",
    "                sep ='/',\n",
    "                remove=FALSE)\n",
    "\n",
    "# Codificando Meses\n",
    "datos <- datos %>%\n",
    "    mutate(mes_txt=cod_Meses(as.integer(mes)))%>%\n",
    "    mutate(consecutivo=1:28149)%>%\n",
    "     transform(dias = as.Date(dias,\"%d/%m/%Y\"))\n",
    "\n",
    "head(datos)"
   ]
  },
  {
   "cell_type": "markdown",
   "metadata": {},
   "source": [
    "### CLUSTERING DATA\n",
    "para encontrar entidades semejantes"
   ]
  },
  {
   "cell_type": "code",
   "execution_count": 20,
   "metadata": {
    "vscode": {
     "languageId": "r"
    }
   },
   "outputs": [
    {
     "data": {
      "text/html": [
       "<table class=\"dataframe\">\n",
       "<caption>A data.frame: 33 × 857</caption>\n",
       "<thead>\n",
       "\t<tr><th scope=col>cluster</th><th scope=col>cve_ent</th><th scope=col>poblacion</th><th scope=col>nombre</th><th scope=col>X26.02.2020</th><th scope=col>X27.02.2020</th><th scope=col>X28.02.2020</th><th scope=col>X29.02.2020</th><th scope=col>X01.03.2020</th><th scope=col>X02.03.2020</th><th scope=col>⋯</th><th scope=col>X18.06.2022</th><th scope=col>X19.06.2022</th><th scope=col>X20.06.2022</th><th scope=col>X21.06.2022</th><th scope=col>X22.06.2022</th><th scope=col>X23.06.2022</th><th scope=col>X24.06.2022</th><th scope=col>X25.06.2022</th><th scope=col>X26.06.2022</th><th scope=col>X27.06.2022</th></tr>\n",
       "\t<tr><th scope=col>&lt;int&gt;</th><th scope=col>&lt;int&gt;</th><th scope=col>&lt;int&gt;</th><th scope=col>&lt;chr&gt;</th><th scope=col>&lt;int&gt;</th><th scope=col>&lt;int&gt;</th><th scope=col>&lt;int&gt;</th><th scope=col>&lt;int&gt;</th><th scope=col>&lt;int&gt;</th><th scope=col>&lt;int&gt;</th><th scope=col>⋯</th><th scope=col>&lt;int&gt;</th><th scope=col>&lt;int&gt;</th><th scope=col>&lt;int&gt;</th><th scope=col>&lt;int&gt;</th><th scope=col>&lt;int&gt;</th><th scope=col>&lt;int&gt;</th><th scope=col>&lt;int&gt;</th><th scope=col>&lt;int&gt;</th><th scope=col>&lt;int&gt;</th><th scope=col>&lt;int&gt;</th></tr>\n",
       "</thead>\n",
       "<tbody>\n",
       "\t<tr><td>5</td><td> 1</td><td>  1434635</td><td>AGUASCALIENTES     </td><td>0</td><td>0</td><td>0</td><td>0</td><td>0</td><td>0</td><td>⋯</td><td>  23</td><td>  11</td><td>  162</td><td>  135</td><td>  141</td><td>  162</td><td>  67</td><td>   3</td><td>   1</td><td>0</td></tr>\n",
       "\t<tr><td>2</td><td> 2</td><td>  3634868</td><td>BAJA CALIFORNIA    </td><td>0</td><td>0</td><td>0</td><td>0</td><td>0</td><td>0</td><td>⋯</td><td>  43</td><td>  33</td><td>  317</td><td>  364</td><td>  307</td><td>  295</td><td> 183</td><td>  19</td><td>  10</td><td>0</td></tr>\n",
       "\t<tr><td>5</td><td> 3</td><td>   804708</td><td>BAJA CALIFORNIA SUR</td><td>0</td><td>0</td><td>0</td><td>0</td><td>0</td><td>0</td><td>⋯</td><td>  63</td><td>  52</td><td>  366</td><td>  335</td><td>  366</td><td>  348</td><td> 294</td><td>  43</td><td>  49</td><td>1</td></tr>\n",
       "\t<tr><td>5</td><td> 4</td><td>  1000617</td><td>CAMPECHE           </td><td>0</td><td>0</td><td>0</td><td>0</td><td>0</td><td>0</td><td>⋯</td><td>  22</td><td>  33</td><td>  108</td><td>   95</td><td>  113</td><td>   91</td><td>  83</td><td>  26</td><td>   2</td><td>0</td></tr>\n",
       "\t<tr><td>4</td><td> 7</td><td>  5730367</td><td>CHIAPAS            </td><td>0</td><td>0</td><td>0</td><td>1</td><td>0</td><td>0</td><td>⋯</td><td>   3</td><td>   7</td><td>   20</td><td>   16</td><td>   11</td><td>   19</td><td>  17</td><td>   0</td><td>   1</td><td>0</td></tr>\n",
       "\t<tr><td>2</td><td> 8</td><td>  3801487</td><td>CHIHUAHUA          </td><td>0</td><td>0</td><td>0</td><td>0</td><td>0</td><td>0</td><td>⋯</td><td>  58</td><td>  45</td><td>  242</td><td>  220</td><td>  227</td><td>  208</td><td>  91</td><td>   4</td><td>   1</td><td>0</td></tr>\n",
       "\t<tr><td>4</td><td> 9</td><td>  9018645</td><td>DISTRITO FEDERAL   </td><td>0</td><td>2</td><td>0</td><td>0</td><td>0</td><td>0</td><td>⋯</td><td>1457</td><td>1160</td><td> 4904</td><td> 4839</td><td> 4919</td><td> 4611</td><td>3478</td><td> 696</td><td> 474</td><td>0</td></tr>\n",
       "\t<tr><td>2</td><td> 5</td><td>  3218720</td><td>COAHUILA           </td><td>0</td><td>0</td><td>1</td><td>0</td><td>0</td><td>0</td><td>⋯</td><td>  61</td><td>  57</td><td>  266</td><td>  290</td><td>  358</td><td>  325</td><td> 205</td><td>  61</td><td>  43</td><td>0</td></tr>\n",
       "\t<tr><td>5</td><td> 6</td><td>   785153</td><td>COLIMA             </td><td>0</td><td>0</td><td>0</td><td>0</td><td>0</td><td>0</td><td>⋯</td><td>  24</td><td>  58</td><td>  130</td><td>  147</td><td>  126</td><td>  169</td><td>  61</td><td>  36</td><td>   7</td><td>0</td></tr>\n",
       "\t<tr><td>1</td><td>10</td><td>  1868996</td><td>DURANGO            </td><td>0</td><td>0</td><td>0</td><td>0</td><td>0</td><td>0</td><td>⋯</td><td>  16</td><td>  22</td><td>  194</td><td>  145</td><td>  191</td><td>  186</td><td> 133</td><td>  24</td><td>  21</td><td>0</td></tr>\n",
       "\t<tr><td>4</td><td>11</td><td>  6228175</td><td>GUANAJUATO         </td><td>0</td><td>0</td><td>0</td><td>0</td><td>1</td><td>3</td><td>⋯</td><td>  84</td><td> 115</td><td>  396</td><td>  369</td><td>  295</td><td>  288</td><td> 141</td><td>  32</td><td>  22</td><td>0</td></tr>\n",
       "\t<tr><td>2</td><td>12</td><td>  3657048</td><td>GUERRERO           </td><td>0</td><td>0</td><td>0</td><td>0</td><td>0</td><td>0</td><td>⋯</td><td>  12</td><td>  27</td><td>   76</td><td>   97</td><td>   63</td><td>   56</td><td>  51</td><td>  17</td><td>   9</td><td>0</td></tr>\n",
       "\t<tr><td>2</td><td>13</td><td>  3086414</td><td>HIDALGO            </td><td>0</td><td>1</td><td>0</td><td>0</td><td>0</td><td>0</td><td>⋯</td><td>  73</td><td>  58</td><td>  251</td><td>  233</td><td>  235</td><td>  261</td><td> 156</td><td>  52</td><td>  54</td><td>0</td></tr>\n",
       "\t<tr><td>4</td><td>14</td><td>  8409693</td><td>JALISCO            </td><td>0</td><td>0</td><td>0</td><td>0</td><td>0</td><td>0</td><td>⋯</td><td>  97</td><td>  86</td><td>  392</td><td>  374</td><td>  369</td><td>  308</td><td> 161</td><td>  30</td><td>  15</td><td>0</td></tr>\n",
       "\t<tr><td>6</td><td>15</td><td> 17427790</td><td>MEXICO             </td><td>0</td><td>1</td><td>1</td><td>1</td><td>0</td><td>2</td><td>⋯</td><td> 206</td><td> 185</td><td> 1640</td><td> 1539</td><td> 1697</td><td> 1601</td><td> 809</td><td> 163</td><td>  67</td><td>0</td></tr>\n",
       "\t<tr><td>2</td><td>16</td><td>  4825401</td><td>MICHOACAN          </td><td>0</td><td>0</td><td>0</td><td>0</td><td>0</td><td>0</td><td>⋯</td><td>  13</td><td>  18</td><td>   95</td><td>   76</td><td>   69</td><td>   89</td><td>  46</td><td>  12</td><td>   7</td><td>0</td></tr>\n",
       "\t<tr><td>1</td><td>17</td><td>  2044058</td><td>MORELOS            </td><td>0</td><td>0</td><td>0</td><td>0</td><td>0</td><td>0</td><td>⋯</td><td>  23</td><td>   7</td><td>   52</td><td>   73</td><td>   81</td><td>   77</td><td>  27</td><td>  14</td><td>   1</td><td>0</td></tr>\n",
       "\t<tr><td>5</td><td>18</td><td>  1288571</td><td>NAYARIT            </td><td>0</td><td>0</td><td>0</td><td>0</td><td>0</td><td>0</td><td>⋯</td><td>  44</td><td>  52</td><td>  151</td><td>  125</td><td>  148</td><td>   89</td><td>  46</td><td>   9</td><td>   8</td><td>0</td></tr>\n",
       "\t<tr><td>4</td><td>19</td><td>  5610153</td><td>NUEVO LEON         </td><td>0</td><td>0</td><td>0</td><td>0</td><td>0</td><td>0</td><td>⋯</td><td> 207</td><td> 179</td><td> 1062</td><td>  998</td><td>  991</td><td>  677</td><td> 427</td><td> 142</td><td>  57</td><td>0</td></tr>\n",
       "\t<tr><td>2</td><td>20</td><td>  4143593</td><td>OAXACA             </td><td>0</td><td>0</td><td>0</td><td>0</td><td>1</td><td>0</td><td>⋯</td><td>  96</td><td>  77</td><td>  241</td><td>  212</td><td>  214</td><td>  231</td><td> 132</td><td>  83</td><td>  21</td><td>0</td></tr>\n",
       "\t<tr><td>4</td><td>21</td><td>  6604451</td><td>PUEBLA             </td><td>0</td><td>0</td><td>0</td><td>0</td><td>0</td><td>0</td><td>⋯</td><td>  55</td><td>  49</td><td>  257</td><td>  265</td><td>  335</td><td>  299</td><td> 287</td><td> 101</td><td>  87</td><td>0</td></tr>\n",
       "\t<tr><td>1</td><td>22</td><td>  2279637</td><td>QUERETARO          </td><td>0</td><td>0</td><td>0</td><td>0</td><td>0</td><td>0</td><td>⋯</td><td>  28</td><td>  57</td><td>  232</td><td>  270</td><td>  298</td><td>  302</td><td> 188</td><td>  72</td><td>  20</td><td>0</td></tr>\n",
       "\t<tr><td>1</td><td>23</td><td>  1723259</td><td>QUINTANA ROO       </td><td>0</td><td>0</td><td>0</td><td>0</td><td>0</td><td>0</td><td>⋯</td><td> 287</td><td> 271</td><td>  634</td><td>  614</td><td>  641</td><td>  683</td><td> 459</td><td> 243</td><td>  23</td><td>0</td></tr>\n",
       "\t<tr><td>2</td><td>24</td><td>  2866142</td><td>SAN LUIS POTOSI    </td><td>0</td><td>0</td><td>0</td><td>0</td><td>0</td><td>0</td><td>⋯</td><td>  90</td><td>  71</td><td>  334</td><td>  361</td><td>  326</td><td>  295</td><td> 220</td><td>  36</td><td>  13</td><td>0</td></tr>\n",
       "\t<tr><td>2</td><td>25</td><td>  3156674</td><td>SINALOA            </td><td>0</td><td>0</td><td>0</td><td>0</td><td>0</td><td>0</td><td>⋯</td><td> 389</td><td> 218</td><td>  846</td><td>  755</td><td>  798</td><td>  645</td><td> 481</td><td>  21</td><td>   9</td><td>0</td></tr>\n",
       "\t<tr><td>2</td><td>26</td><td>  3074745</td><td>SONORA             </td><td>0</td><td>0</td><td>0</td><td>0</td><td>0</td><td>0</td><td>⋯</td><td>  61</td><td>  54</td><td>  361</td><td>  303</td><td>  353</td><td>  335</td><td> 213</td><td>  48</td><td>  63</td><td>0</td></tr>\n",
       "\t<tr><td>1</td><td>27</td><td>  2572287</td><td>TABASCO            </td><td>0</td><td>0</td><td>0</td><td>0</td><td>0</td><td>0</td><td>⋯</td><td>  62</td><td>  24</td><td>  183</td><td>  233</td><td>  250</td><td>  299</td><td> 264</td><td> 109</td><td>   7</td><td>0</td></tr>\n",
       "\t<tr><td>2</td><td>28</td><td>  3650602</td><td>TAMAULIPAS         </td><td>0</td><td>0</td><td>0</td><td>0</td><td>0</td><td>0</td><td>⋯</td><td>  95</td><td> 107</td><td>  360</td><td>  338</td><td>  371</td><td>  297</td><td> 238</td><td>  92</td><td>  47</td><td>0</td></tr>\n",
       "\t<tr><td>5</td><td>29</td><td>  1380011</td><td>TLAXCALA           </td><td>0</td><td>0</td><td>0</td><td>0</td><td>0</td><td>0</td><td>⋯</td><td>   9</td><td>   6</td><td>   45</td><td>   50</td><td>   53</td><td>   34</td><td>  34</td><td>   1</td><td>   5</td><td>0</td></tr>\n",
       "\t<tr><td>4</td><td>30</td><td>  8539862</td><td>VERACRUZ           </td><td>0</td><td>0</td><td>0</td><td>0</td><td>0</td><td>0</td><td>⋯</td><td> 124</td><td> 128</td><td>  456</td><td>  429</td><td>  527</td><td>  442</td><td> 318</td><td> 171</td><td>  38</td><td>0</td></tr>\n",
       "\t<tr><td>1</td><td>31</td><td>  2259098</td><td>YUCATAN            </td><td>0</td><td>0</td><td>0</td><td>0</td><td>0</td><td>0</td><td>⋯</td><td>  97</td><td>  97</td><td>  598</td><td>  567</td><td>  535</td><td>  573</td><td> 374</td><td>  27</td><td>  20</td><td>0</td></tr>\n",
       "\t<tr><td>1</td><td>32</td><td>  1666426</td><td>ZACATECAS          </td><td>0</td><td>0</td><td>0</td><td>0</td><td>0</td><td>0</td><td>⋯</td><td>   9</td><td>  15</td><td>   88</td><td>  121</td><td>   95</td><td>   92</td><td>  76</td><td>   7</td><td>   2</td><td>0</td></tr>\n",
       "\t<tr><td>3</td><td> 0</td><td>127792286</td><td>Nacional           </td><td>0</td><td>4</td><td>2</td><td>2</td><td>2</td><td>5</td><td>⋯</td><td>3931</td><td>3379</td><td>15459</td><td>14988</td><td>15503</td><td>14387</td><td>9760</td><td>2394</td><td>1204</td><td>1</td></tr>\n",
       "</tbody>\n",
       "</table>\n"
      ],
      "text/latex": [
       "A data.frame: 33 × 857\n",
       "\\begin{tabular}{lllllllllllllllllllll}\n",
       " cluster & cve\\_ent & poblacion & nombre & X26.02.2020 & X27.02.2020 & X28.02.2020 & X29.02.2020 & X01.03.2020 & X02.03.2020 & ⋯ & X18.06.2022 & X19.06.2022 & X20.06.2022 & X21.06.2022 & X22.06.2022 & X23.06.2022 & X24.06.2022 & X25.06.2022 & X26.06.2022 & X27.06.2022\\\\\n",
       " <int> & <int> & <int> & <chr> & <int> & <int> & <int> & <int> & <int> & <int> & ⋯ & <int> & <int> & <int> & <int> & <int> & <int> & <int> & <int> & <int> & <int>\\\\\n",
       "\\hline\n",
       "\t 5 &  1 &   1434635 & AGUASCALIENTES      & 0 & 0 & 0 & 0 & 0 & 0 & ⋯ &   23 &   11 &   162 &   135 &   141 &   162 &   67 &    3 &    1 & 0\\\\\n",
       "\t 2 &  2 &   3634868 & BAJA CALIFORNIA     & 0 & 0 & 0 & 0 & 0 & 0 & ⋯ &   43 &   33 &   317 &   364 &   307 &   295 &  183 &   19 &   10 & 0\\\\\n",
       "\t 5 &  3 &    804708 & BAJA CALIFORNIA SUR & 0 & 0 & 0 & 0 & 0 & 0 & ⋯ &   63 &   52 &   366 &   335 &   366 &   348 &  294 &   43 &   49 & 1\\\\\n",
       "\t 5 &  4 &   1000617 & CAMPECHE            & 0 & 0 & 0 & 0 & 0 & 0 & ⋯ &   22 &   33 &   108 &    95 &   113 &    91 &   83 &   26 &    2 & 0\\\\\n",
       "\t 4 &  7 &   5730367 & CHIAPAS             & 0 & 0 & 0 & 1 & 0 & 0 & ⋯ &    3 &    7 &    20 &    16 &    11 &    19 &   17 &    0 &    1 & 0\\\\\n",
       "\t 2 &  8 &   3801487 & CHIHUAHUA           & 0 & 0 & 0 & 0 & 0 & 0 & ⋯ &   58 &   45 &   242 &   220 &   227 &   208 &   91 &    4 &    1 & 0\\\\\n",
       "\t 4 &  9 &   9018645 & DISTRITO FEDERAL    & 0 & 2 & 0 & 0 & 0 & 0 & ⋯ & 1457 & 1160 &  4904 &  4839 &  4919 &  4611 & 3478 &  696 &  474 & 0\\\\\n",
       "\t 2 &  5 &   3218720 & COAHUILA            & 0 & 0 & 1 & 0 & 0 & 0 & ⋯ &   61 &   57 &   266 &   290 &   358 &   325 &  205 &   61 &   43 & 0\\\\\n",
       "\t 5 &  6 &    785153 & COLIMA              & 0 & 0 & 0 & 0 & 0 & 0 & ⋯ &   24 &   58 &   130 &   147 &   126 &   169 &   61 &   36 &    7 & 0\\\\\n",
       "\t 1 & 10 &   1868996 & DURANGO             & 0 & 0 & 0 & 0 & 0 & 0 & ⋯ &   16 &   22 &   194 &   145 &   191 &   186 &  133 &   24 &   21 & 0\\\\\n",
       "\t 4 & 11 &   6228175 & GUANAJUATO          & 0 & 0 & 0 & 0 & 1 & 3 & ⋯ &   84 &  115 &   396 &   369 &   295 &   288 &  141 &   32 &   22 & 0\\\\\n",
       "\t 2 & 12 &   3657048 & GUERRERO            & 0 & 0 & 0 & 0 & 0 & 0 & ⋯ &   12 &   27 &    76 &    97 &    63 &    56 &   51 &   17 &    9 & 0\\\\\n",
       "\t 2 & 13 &   3086414 & HIDALGO             & 0 & 1 & 0 & 0 & 0 & 0 & ⋯ &   73 &   58 &   251 &   233 &   235 &   261 &  156 &   52 &   54 & 0\\\\\n",
       "\t 4 & 14 &   8409693 & JALISCO             & 0 & 0 & 0 & 0 & 0 & 0 & ⋯ &   97 &   86 &   392 &   374 &   369 &   308 &  161 &   30 &   15 & 0\\\\\n",
       "\t 6 & 15 &  17427790 & MEXICO              & 0 & 1 & 1 & 1 & 0 & 2 & ⋯ &  206 &  185 &  1640 &  1539 &  1697 &  1601 &  809 &  163 &   67 & 0\\\\\n",
       "\t 2 & 16 &   4825401 & MICHOACAN           & 0 & 0 & 0 & 0 & 0 & 0 & ⋯ &   13 &   18 &    95 &    76 &    69 &    89 &   46 &   12 &    7 & 0\\\\\n",
       "\t 1 & 17 &   2044058 & MORELOS             & 0 & 0 & 0 & 0 & 0 & 0 & ⋯ &   23 &    7 &    52 &    73 &    81 &    77 &   27 &   14 &    1 & 0\\\\\n",
       "\t 5 & 18 &   1288571 & NAYARIT             & 0 & 0 & 0 & 0 & 0 & 0 & ⋯ &   44 &   52 &   151 &   125 &   148 &    89 &   46 &    9 &    8 & 0\\\\\n",
       "\t 4 & 19 &   5610153 & NUEVO LEON          & 0 & 0 & 0 & 0 & 0 & 0 & ⋯ &  207 &  179 &  1062 &   998 &   991 &   677 &  427 &  142 &   57 & 0\\\\\n",
       "\t 2 & 20 &   4143593 & OAXACA              & 0 & 0 & 0 & 0 & 1 & 0 & ⋯ &   96 &   77 &   241 &   212 &   214 &   231 &  132 &   83 &   21 & 0\\\\\n",
       "\t 4 & 21 &   6604451 & PUEBLA              & 0 & 0 & 0 & 0 & 0 & 0 & ⋯ &   55 &   49 &   257 &   265 &   335 &   299 &  287 &  101 &   87 & 0\\\\\n",
       "\t 1 & 22 &   2279637 & QUERETARO           & 0 & 0 & 0 & 0 & 0 & 0 & ⋯ &   28 &   57 &   232 &   270 &   298 &   302 &  188 &   72 &   20 & 0\\\\\n",
       "\t 1 & 23 &   1723259 & QUINTANA ROO        & 0 & 0 & 0 & 0 & 0 & 0 & ⋯ &  287 &  271 &   634 &   614 &   641 &   683 &  459 &  243 &   23 & 0\\\\\n",
       "\t 2 & 24 &   2866142 & SAN LUIS POTOSI     & 0 & 0 & 0 & 0 & 0 & 0 & ⋯ &   90 &   71 &   334 &   361 &   326 &   295 &  220 &   36 &   13 & 0\\\\\n",
       "\t 2 & 25 &   3156674 & SINALOA             & 0 & 0 & 0 & 0 & 0 & 0 & ⋯ &  389 &  218 &   846 &   755 &   798 &   645 &  481 &   21 &    9 & 0\\\\\n",
       "\t 2 & 26 &   3074745 & SONORA              & 0 & 0 & 0 & 0 & 0 & 0 & ⋯ &   61 &   54 &   361 &   303 &   353 &   335 &  213 &   48 &   63 & 0\\\\\n",
       "\t 1 & 27 &   2572287 & TABASCO             & 0 & 0 & 0 & 0 & 0 & 0 & ⋯ &   62 &   24 &   183 &   233 &   250 &   299 &  264 &  109 &    7 & 0\\\\\n",
       "\t 2 & 28 &   3650602 & TAMAULIPAS          & 0 & 0 & 0 & 0 & 0 & 0 & ⋯ &   95 &  107 &   360 &   338 &   371 &   297 &  238 &   92 &   47 & 0\\\\\n",
       "\t 5 & 29 &   1380011 & TLAXCALA            & 0 & 0 & 0 & 0 & 0 & 0 & ⋯ &    9 &    6 &    45 &    50 &    53 &    34 &   34 &    1 &    5 & 0\\\\\n",
       "\t 4 & 30 &   8539862 & VERACRUZ            & 0 & 0 & 0 & 0 & 0 & 0 & ⋯ &  124 &  128 &   456 &   429 &   527 &   442 &  318 &  171 &   38 & 0\\\\\n",
       "\t 1 & 31 &   2259098 & YUCATAN             & 0 & 0 & 0 & 0 & 0 & 0 & ⋯ &   97 &   97 &   598 &   567 &   535 &   573 &  374 &   27 &   20 & 0\\\\\n",
       "\t 1 & 32 &   1666426 & ZACATECAS           & 0 & 0 & 0 & 0 & 0 & 0 & ⋯ &    9 &   15 &    88 &   121 &    95 &    92 &   76 &    7 &    2 & 0\\\\\n",
       "\t 3 &  0 & 127792286 & Nacional            & 0 & 4 & 2 & 2 & 2 & 5 & ⋯ & 3931 & 3379 & 15459 & 14988 & 15503 & 14387 & 9760 & 2394 & 1204 & 1\\\\\n",
       "\\end{tabular}\n"
      ],
      "text/markdown": [
       "\n",
       "A data.frame: 33 × 857\n",
       "\n",
       "| cluster &lt;int&gt; | cve_ent &lt;int&gt; | poblacion &lt;int&gt; | nombre &lt;chr&gt; | X26.02.2020 &lt;int&gt; | X27.02.2020 &lt;int&gt; | X28.02.2020 &lt;int&gt; | X29.02.2020 &lt;int&gt; | X01.03.2020 &lt;int&gt; | X02.03.2020 &lt;int&gt; | ⋯ ⋯ | X18.06.2022 &lt;int&gt; | X19.06.2022 &lt;int&gt; | X20.06.2022 &lt;int&gt; | X21.06.2022 &lt;int&gt; | X22.06.2022 &lt;int&gt; | X23.06.2022 &lt;int&gt; | X24.06.2022 &lt;int&gt; | X25.06.2022 &lt;int&gt; | X26.06.2022 &lt;int&gt; | X27.06.2022 &lt;int&gt; |\n",
       "|---|---|---|---|---|---|---|---|---|---|---|---|---|---|---|---|---|---|---|---|---|\n",
       "| 5 |  1 |   1434635 | AGUASCALIENTES      | 0 | 0 | 0 | 0 | 0 | 0 | ⋯ |   23 |   11 |   162 |   135 |   141 |   162 |   67 |    3 |    1 | 0 |\n",
       "| 2 |  2 |   3634868 | BAJA CALIFORNIA     | 0 | 0 | 0 | 0 | 0 | 0 | ⋯ |   43 |   33 |   317 |   364 |   307 |   295 |  183 |   19 |   10 | 0 |\n",
       "| 5 |  3 |    804708 | BAJA CALIFORNIA SUR | 0 | 0 | 0 | 0 | 0 | 0 | ⋯ |   63 |   52 |   366 |   335 |   366 |   348 |  294 |   43 |   49 | 1 |\n",
       "| 5 |  4 |   1000617 | CAMPECHE            | 0 | 0 | 0 | 0 | 0 | 0 | ⋯ |   22 |   33 |   108 |    95 |   113 |    91 |   83 |   26 |    2 | 0 |\n",
       "| 4 |  7 |   5730367 | CHIAPAS             | 0 | 0 | 0 | 1 | 0 | 0 | ⋯ |    3 |    7 |    20 |    16 |    11 |    19 |   17 |    0 |    1 | 0 |\n",
       "| 2 |  8 |   3801487 | CHIHUAHUA           | 0 | 0 | 0 | 0 | 0 | 0 | ⋯ |   58 |   45 |   242 |   220 |   227 |   208 |   91 |    4 |    1 | 0 |\n",
       "| 4 |  9 |   9018645 | DISTRITO FEDERAL    | 0 | 2 | 0 | 0 | 0 | 0 | ⋯ | 1457 | 1160 |  4904 |  4839 |  4919 |  4611 | 3478 |  696 |  474 | 0 |\n",
       "| 2 |  5 |   3218720 | COAHUILA            | 0 | 0 | 1 | 0 | 0 | 0 | ⋯ |   61 |   57 |   266 |   290 |   358 |   325 |  205 |   61 |   43 | 0 |\n",
       "| 5 |  6 |    785153 | COLIMA              | 0 | 0 | 0 | 0 | 0 | 0 | ⋯ |   24 |   58 |   130 |   147 |   126 |   169 |   61 |   36 |    7 | 0 |\n",
       "| 1 | 10 |   1868996 | DURANGO             | 0 | 0 | 0 | 0 | 0 | 0 | ⋯ |   16 |   22 |   194 |   145 |   191 |   186 |  133 |   24 |   21 | 0 |\n",
       "| 4 | 11 |   6228175 | GUANAJUATO          | 0 | 0 | 0 | 0 | 1 | 3 | ⋯ |   84 |  115 |   396 |   369 |   295 |   288 |  141 |   32 |   22 | 0 |\n",
       "| 2 | 12 |   3657048 | GUERRERO            | 0 | 0 | 0 | 0 | 0 | 0 | ⋯ |   12 |   27 |    76 |    97 |    63 |    56 |   51 |   17 |    9 | 0 |\n",
       "| 2 | 13 |   3086414 | HIDALGO             | 0 | 1 | 0 | 0 | 0 | 0 | ⋯ |   73 |   58 |   251 |   233 |   235 |   261 |  156 |   52 |   54 | 0 |\n",
       "| 4 | 14 |   8409693 | JALISCO             | 0 | 0 | 0 | 0 | 0 | 0 | ⋯ |   97 |   86 |   392 |   374 |   369 |   308 |  161 |   30 |   15 | 0 |\n",
       "| 6 | 15 |  17427790 | MEXICO              | 0 | 1 | 1 | 1 | 0 | 2 | ⋯ |  206 |  185 |  1640 |  1539 |  1697 |  1601 |  809 |  163 |   67 | 0 |\n",
       "| 2 | 16 |   4825401 | MICHOACAN           | 0 | 0 | 0 | 0 | 0 | 0 | ⋯ |   13 |   18 |    95 |    76 |    69 |    89 |   46 |   12 |    7 | 0 |\n",
       "| 1 | 17 |   2044058 | MORELOS             | 0 | 0 | 0 | 0 | 0 | 0 | ⋯ |   23 |    7 |    52 |    73 |    81 |    77 |   27 |   14 |    1 | 0 |\n",
       "| 5 | 18 |   1288571 | NAYARIT             | 0 | 0 | 0 | 0 | 0 | 0 | ⋯ |   44 |   52 |   151 |   125 |   148 |    89 |   46 |    9 |    8 | 0 |\n",
       "| 4 | 19 |   5610153 | NUEVO LEON          | 0 | 0 | 0 | 0 | 0 | 0 | ⋯ |  207 |  179 |  1062 |   998 |   991 |   677 |  427 |  142 |   57 | 0 |\n",
       "| 2 | 20 |   4143593 | OAXACA              | 0 | 0 | 0 | 0 | 1 | 0 | ⋯ |   96 |   77 |   241 |   212 |   214 |   231 |  132 |   83 |   21 | 0 |\n",
       "| 4 | 21 |   6604451 | PUEBLA              | 0 | 0 | 0 | 0 | 0 | 0 | ⋯ |   55 |   49 |   257 |   265 |   335 |   299 |  287 |  101 |   87 | 0 |\n",
       "| 1 | 22 |   2279637 | QUERETARO           | 0 | 0 | 0 | 0 | 0 | 0 | ⋯ |   28 |   57 |   232 |   270 |   298 |   302 |  188 |   72 |   20 | 0 |\n",
       "| 1 | 23 |   1723259 | QUINTANA ROO        | 0 | 0 | 0 | 0 | 0 | 0 | ⋯ |  287 |  271 |   634 |   614 |   641 |   683 |  459 |  243 |   23 | 0 |\n",
       "| 2 | 24 |   2866142 | SAN LUIS POTOSI     | 0 | 0 | 0 | 0 | 0 | 0 | ⋯ |   90 |   71 |   334 |   361 |   326 |   295 |  220 |   36 |   13 | 0 |\n",
       "| 2 | 25 |   3156674 | SINALOA             | 0 | 0 | 0 | 0 | 0 | 0 | ⋯ |  389 |  218 |   846 |   755 |   798 |   645 |  481 |   21 |    9 | 0 |\n",
       "| 2 | 26 |   3074745 | SONORA              | 0 | 0 | 0 | 0 | 0 | 0 | ⋯ |   61 |   54 |   361 |   303 |   353 |   335 |  213 |   48 |   63 | 0 |\n",
       "| 1 | 27 |   2572287 | TABASCO             | 0 | 0 | 0 | 0 | 0 | 0 | ⋯ |   62 |   24 |   183 |   233 |   250 |   299 |  264 |  109 |    7 | 0 |\n",
       "| 2 | 28 |   3650602 | TAMAULIPAS          | 0 | 0 | 0 | 0 | 0 | 0 | ⋯ |   95 |  107 |   360 |   338 |   371 |   297 |  238 |   92 |   47 | 0 |\n",
       "| 5 | 29 |   1380011 | TLAXCALA            | 0 | 0 | 0 | 0 | 0 | 0 | ⋯ |    9 |    6 |    45 |    50 |    53 |    34 |   34 |    1 |    5 | 0 |\n",
       "| 4 | 30 |   8539862 | VERACRUZ            | 0 | 0 | 0 | 0 | 0 | 0 | ⋯ |  124 |  128 |   456 |   429 |   527 |   442 |  318 |  171 |   38 | 0 |\n",
       "| 1 | 31 |   2259098 | YUCATAN             | 0 | 0 | 0 | 0 | 0 | 0 | ⋯ |   97 |   97 |   598 |   567 |   535 |   573 |  374 |   27 |   20 | 0 |\n",
       "| 1 | 32 |   1666426 | ZACATECAS           | 0 | 0 | 0 | 0 | 0 | 0 | ⋯ |    9 |   15 |    88 |   121 |    95 |    92 |   76 |    7 |    2 | 0 |\n",
       "| 3 |  0 | 127792286 | Nacional            | 0 | 4 | 2 | 2 | 2 | 5 | ⋯ | 3931 | 3379 | 15459 | 14988 | 15503 | 14387 | 9760 | 2394 | 1204 | 1 |\n",
       "\n"
      ],
      "text/plain": [
       "   cluster cve_ent poblacion nombre              X26.02.2020 X27.02.2020\n",
       "1  5        1        1434635 AGUASCALIENTES      0           0          \n",
       "2  2        2        3634868 BAJA CALIFORNIA     0           0          \n",
       "3  5        3         804708 BAJA CALIFORNIA SUR 0           0          \n",
       "4  5        4        1000617 CAMPECHE            0           0          \n",
       "5  4        7        5730367 CHIAPAS             0           0          \n",
       "6  2        8        3801487 CHIHUAHUA           0           0          \n",
       "7  4        9        9018645 DISTRITO FEDERAL    0           2          \n",
       "8  2        5        3218720 COAHUILA            0           0          \n",
       "9  5        6         785153 COLIMA              0           0          \n",
       "10 1       10        1868996 DURANGO             0           0          \n",
       "11 4       11        6228175 GUANAJUATO          0           0          \n",
       "12 2       12        3657048 GUERRERO            0           0          \n",
       "13 2       13        3086414 HIDALGO             0           1          \n",
       "14 4       14        8409693 JALISCO             0           0          \n",
       "15 6       15       17427790 MEXICO              0           1          \n",
       "16 2       16        4825401 MICHOACAN           0           0          \n",
       "17 1       17        2044058 MORELOS             0           0          \n",
       "18 5       18        1288571 NAYARIT             0           0          \n",
       "19 4       19        5610153 NUEVO LEON          0           0          \n",
       "20 2       20        4143593 OAXACA              0           0          \n",
       "21 4       21        6604451 PUEBLA              0           0          \n",
       "22 1       22        2279637 QUERETARO           0           0          \n",
       "23 1       23        1723259 QUINTANA ROO        0           0          \n",
       "24 2       24        2866142 SAN LUIS POTOSI     0           0          \n",
       "25 2       25        3156674 SINALOA             0           0          \n",
       "26 2       26        3074745 SONORA              0           0          \n",
       "27 1       27        2572287 TABASCO             0           0          \n",
       "28 2       28        3650602 TAMAULIPAS          0           0          \n",
       "29 5       29        1380011 TLAXCALA            0           0          \n",
       "30 4       30        8539862 VERACRUZ            0           0          \n",
       "31 1       31        2259098 YUCATAN             0           0          \n",
       "32 1       32        1666426 ZACATECAS           0           0          \n",
       "33 3        0      127792286 Nacional            0           4          \n",
       "   X28.02.2020 X29.02.2020 X01.03.2020 X02.03.2020 ⋯ X18.06.2022 X19.06.2022\n",
       "1  0           0           0           0           ⋯   23          11       \n",
       "2  0           0           0           0           ⋯   43          33       \n",
       "3  0           0           0           0           ⋯   63          52       \n",
       "4  0           0           0           0           ⋯   22          33       \n",
       "5  0           1           0           0           ⋯    3           7       \n",
       "6  0           0           0           0           ⋯   58          45       \n",
       "7  0           0           0           0           ⋯ 1457        1160       \n",
       "8  1           0           0           0           ⋯   61          57       \n",
       "9  0           0           0           0           ⋯   24          58       \n",
       "10 0           0           0           0           ⋯   16          22       \n",
       "11 0           0           1           3           ⋯   84         115       \n",
       "12 0           0           0           0           ⋯   12          27       \n",
       "13 0           0           0           0           ⋯   73          58       \n",
       "14 0           0           0           0           ⋯   97          86       \n",
       "15 1           1           0           2           ⋯  206         185       \n",
       "16 0           0           0           0           ⋯   13          18       \n",
       "17 0           0           0           0           ⋯   23           7       \n",
       "18 0           0           0           0           ⋯   44          52       \n",
       "19 0           0           0           0           ⋯  207         179       \n",
       "20 0           0           1           0           ⋯   96          77       \n",
       "21 0           0           0           0           ⋯   55          49       \n",
       "22 0           0           0           0           ⋯   28          57       \n",
       "23 0           0           0           0           ⋯  287         271       \n",
       "24 0           0           0           0           ⋯   90          71       \n",
       "25 0           0           0           0           ⋯  389         218       \n",
       "26 0           0           0           0           ⋯   61          54       \n",
       "27 0           0           0           0           ⋯   62          24       \n",
       "28 0           0           0           0           ⋯   95         107       \n",
       "29 0           0           0           0           ⋯    9           6       \n",
       "30 0           0           0           0           ⋯  124         128       \n",
       "31 0           0           0           0           ⋯   97          97       \n",
       "32 0           0           0           0           ⋯    9          15       \n",
       "33 2           2           2           5           ⋯ 3931        3379       \n",
       "   X20.06.2022 X21.06.2022 X22.06.2022 X23.06.2022 X24.06.2022 X25.06.2022\n",
       "1    162         135         141         162         67           3       \n",
       "2    317         364         307         295        183          19       \n",
       "3    366         335         366         348        294          43       \n",
       "4    108          95         113          91         83          26       \n",
       "5     20          16          11          19         17           0       \n",
       "6    242         220         227         208         91           4       \n",
       "7   4904        4839        4919        4611       3478         696       \n",
       "8    266         290         358         325        205          61       \n",
       "9    130         147         126         169         61          36       \n",
       "10   194         145         191         186        133          24       \n",
       "11   396         369         295         288        141          32       \n",
       "12    76          97          63          56         51          17       \n",
       "13   251         233         235         261        156          52       \n",
       "14   392         374         369         308        161          30       \n",
       "15  1640        1539        1697        1601        809         163       \n",
       "16    95          76          69          89         46          12       \n",
       "17    52          73          81          77         27          14       \n",
       "18   151         125         148          89         46           9       \n",
       "19  1062         998         991         677        427         142       \n",
       "20   241         212         214         231        132          83       \n",
       "21   257         265         335         299        287         101       \n",
       "22   232         270         298         302        188          72       \n",
       "23   634         614         641         683        459         243       \n",
       "24   334         361         326         295        220          36       \n",
       "25   846         755         798         645        481          21       \n",
       "26   361         303         353         335        213          48       \n",
       "27   183         233         250         299        264         109       \n",
       "28   360         338         371         297        238          92       \n",
       "29    45          50          53          34         34           1       \n",
       "30   456         429         527         442        318         171       \n",
       "31   598         567         535         573        374          27       \n",
       "32    88         121          95          92         76           7       \n",
       "33 15459       14988       15503       14387       9760        2394       \n",
       "   X26.06.2022 X27.06.2022\n",
       "1     1        0          \n",
       "2    10        0          \n",
       "3    49        1          \n",
       "4     2        0          \n",
       "5     1        0          \n",
       "6     1        0          \n",
       "7   474        0          \n",
       "8    43        0          \n",
       "9     7        0          \n",
       "10   21        0          \n",
       "11   22        0          \n",
       "12    9        0          \n",
       "13   54        0          \n",
       "14   15        0          \n",
       "15   67        0          \n",
       "16    7        0          \n",
       "17    1        0          \n",
       "18    8        0          \n",
       "19   57        0          \n",
       "20   21        0          \n",
       "21   87        0          \n",
       "22   20        0          \n",
       "23   23        0          \n",
       "24   13        0          \n",
       "25    9        0          \n",
       "26   63        0          \n",
       "27    7        0          \n",
       "28   47        0          \n",
       "29    5        0          \n",
       "30   38        0          \n",
       "31   20        0          \n",
       "32    2        0          \n",
       "33 1204        1          "
      ]
     },
     "metadata": {},
     "output_type": "display_data"
    }
   ],
   "source": [
    "# Kmeans Clustering :)\n",
    "casos_diarios_k <- casos[,!(names(casos) %in% c(\"nombre\"))]\n",
    "resultado <- kmeans(casos_diarios_k,6)\n",
    "datosK <- cbind(cluster = resultado$cluster,casos)\n",
    "datosK"
   ]
  },
  {
   "cell_type": "markdown",
   "metadata": {},
   "source": [
    "### PERCEPTRON MULTICAPA\n",
    "\n",
    "Entidades DURANGO ZACATECAS Y QUERETARO (mismo cluster)"
   ]
  },
  {
   "cell_type": "code",
   "execution_count": 68,
   "metadata": {
    "vscode": {
     "languageId": "r"
    }
   },
   "outputs": [
    {
     "name": "stderr",
     "output_type": "stream",
     "text": [
      "\n",
      "Attaching package: 'neuralnet'\n",
      "\n",
      "\n",
      "The following object is masked from 'package:dplyr':\n",
      "\n",
      "    compute\n",
      "\n",
      "\n"
     ]
    }
   ],
   "source": [
    "library(neuralnet)\n",
    "library(NeuralNetTools)"
   ]
  },
  {
   "cell_type": "markdown",
   "metadata": {},
   "source": [
    "Subsets de datos por entidad"
   ]
  },
  {
   "cell_type": "code",
   "execution_count": 78,
   "metadata": {
    "vscode": {
     "languageId": "r"
    }
   },
   "outputs": [
    {
     "name": "stderr",
     "output_type": "stream",
     "text": [
      "Warning message in cbind(consecutivo, dia_sem):\n",
      "\"number of rows of result is not a multiple of vector length (arg 2)\"\n"
     ]
    },
    {
     "data": {
      "text/html": [
       "<table class=\"dataframe\">\n",
       "<caption>A data.frame: 6 × 13</caption>\n",
       "<thead>\n",
       "\t<tr><th></th><th scope=col>cve_ent</th><th scope=col>poblacion</th><th scope=col>nombre</th><th scope=col>infectados</th><th scope=col>dias</th><th scope=col>dia</th><th scope=col>mes</th><th scope=col>año</th><th scope=col>mes_txt</th><th scope=col>infectadosnew</th><th scope=col>consecutivo</th><th scope=col>dia_sem</th><th scope=col>dias_txt</th></tr>\n",
       "\t<tr><th></th><th scope=col>&lt;int&gt;</th><th scope=col>&lt;int&gt;</th><th scope=col>&lt;chr&gt;</th><th scope=col>&lt;int&gt;</th><th scope=col>&lt;date&gt;</th><th scope=col>&lt;chr&gt;</th><th scope=col>&lt;chr&gt;</th><th scope=col>&lt;chr&gt;</th><th scope=col>&lt;fct&gt;</th><th scope=col>&lt;dbl&gt;</th><th scope=col>&lt;int&gt;</th><th scope=col>&lt;int&gt;</th><th scope=col>&lt;fct&gt;</th></tr>\n",
       "</thead>\n",
       "<tbody>\n",
       "\t<tr><th scope=row>1</th><td>10</td><td>1868996</td><td>DURANGO</td><td>0</td><td>2020-02-26</td><td>26</td><td>02</td><td>2020</td><td>Feb</td><td>0</td><td>1</td><td>1</td><td>Miercoles</td></tr>\n",
       "\t<tr><th scope=row>2</th><td>10</td><td>1868996</td><td>DURANGO</td><td>0</td><td>2020-02-27</td><td>27</td><td>02</td><td>2020</td><td>Feb</td><td>0</td><td>2</td><td>2</td><td>Jueves   </td></tr>\n",
       "\t<tr><th scope=row>3</th><td>10</td><td>1868996</td><td>DURANGO</td><td>0</td><td>2020-02-28</td><td>28</td><td>02</td><td>2020</td><td>Feb</td><td>0</td><td>3</td><td>3</td><td>Viernes  </td></tr>\n",
       "\t<tr><th scope=row>6</th><td>10</td><td>1868996</td><td>DURANGO</td><td>0</td><td>2020-03-02</td><td>02</td><td>03</td><td>2020</td><td>Mar</td><td>0</td><td>4</td><td>6</td><td>Lunes    </td></tr>\n",
       "\t<tr><th scope=row>7</th><td>10</td><td>1868996</td><td>DURANGO</td><td>0</td><td>2020-03-03</td><td>03</td><td>03</td><td>2020</td><td>Mar</td><td>0</td><td>5</td><td>7</td><td>Martes   </td></tr>\n",
       "\t<tr><th scope=row>8</th><td>10</td><td>1868996</td><td>DURANGO</td><td>0</td><td>2020-03-04</td><td>04</td><td>03</td><td>2020</td><td>Mar</td><td>0</td><td>6</td><td>1</td><td>Miercoles</td></tr>\n",
       "</tbody>\n",
       "</table>\n"
      ],
      "text/latex": [
       "A data.frame: 6 × 13\n",
       "\\begin{tabular}{r|lllllllllllll}\n",
       "  & cve\\_ent & poblacion & nombre & infectados & dias & dia & mes & año & mes\\_txt & infectadosnew & consecutivo & dia\\_sem & dias\\_txt\\\\\n",
       "  & <int> & <int> & <chr> & <int> & <date> & <chr> & <chr> & <chr> & <fct> & <dbl> & <int> & <int> & <fct>\\\\\n",
       "\\hline\n",
       "\t1 & 10 & 1868996 & DURANGO & 0 & 2020-02-26 & 26 & 02 & 2020 & Feb & 0 & 1 & 1 & Miercoles\\\\\n",
       "\t2 & 10 & 1868996 & DURANGO & 0 & 2020-02-27 & 27 & 02 & 2020 & Feb & 0 & 2 & 2 & Jueves   \\\\\n",
       "\t3 & 10 & 1868996 & DURANGO & 0 & 2020-02-28 & 28 & 02 & 2020 & Feb & 0 & 3 & 3 & Viernes  \\\\\n",
       "\t6 & 10 & 1868996 & DURANGO & 0 & 2020-03-02 & 02 & 03 & 2020 & Mar & 0 & 4 & 6 & Lunes    \\\\\n",
       "\t7 & 10 & 1868996 & DURANGO & 0 & 2020-03-03 & 03 & 03 & 2020 & Mar & 0 & 5 & 7 & Martes   \\\\\n",
       "\t8 & 10 & 1868996 & DURANGO & 0 & 2020-03-04 & 04 & 03 & 2020 & Mar & 0 & 6 & 1 & Miercoles\\\\\n",
       "\\end{tabular}\n"
      ],
      "text/markdown": [
       "\n",
       "A data.frame: 6 × 13\n",
       "\n",
       "| <!--/--> | cve_ent &lt;int&gt; | poblacion &lt;int&gt; | nombre &lt;chr&gt; | infectados &lt;int&gt; | dias &lt;date&gt; | dia &lt;chr&gt; | mes &lt;chr&gt; | año &lt;chr&gt; | mes_txt &lt;fct&gt; | infectadosnew &lt;dbl&gt; | consecutivo &lt;int&gt; | dia_sem &lt;int&gt; | dias_txt &lt;fct&gt; |\n",
       "|---|---|---|---|---|---|---|---|---|---|---|---|---|---|\n",
       "| 1 | 10 | 1868996 | DURANGO | 0 | 2020-02-26 | 26 | 02 | 2020 | Feb | 0 | 1 | 1 | Miercoles |\n",
       "| 2 | 10 | 1868996 | DURANGO | 0 | 2020-02-27 | 27 | 02 | 2020 | Feb | 0 | 2 | 2 | Jueves    |\n",
       "| 3 | 10 | 1868996 | DURANGO | 0 | 2020-02-28 | 28 | 02 | 2020 | Feb | 0 | 3 | 3 | Viernes   |\n",
       "| 6 | 10 | 1868996 | DURANGO | 0 | 2020-03-02 | 02 | 03 | 2020 | Mar | 0 | 4 | 6 | Lunes     |\n",
       "| 7 | 10 | 1868996 | DURANGO | 0 | 2020-03-03 | 03 | 03 | 2020 | Mar | 0 | 5 | 7 | Martes    |\n",
       "| 8 | 10 | 1868996 | DURANGO | 0 | 2020-03-04 | 04 | 03 | 2020 | Mar | 0 | 6 | 1 | Miercoles |\n",
       "\n"
      ],
      "text/plain": [
       "  cve_ent poblacion nombre  infectados dias       dia mes año  mes_txt\n",
       "1 10      1868996   DURANGO 0          2020-02-26 26  02  2020 Feb    \n",
       "2 10      1868996   DURANGO 0          2020-02-27 27  02  2020 Feb    \n",
       "3 10      1868996   DURANGO 0          2020-02-28 28  02  2020 Feb    \n",
       "6 10      1868996   DURANGO 0          2020-03-02 02  03  2020 Mar    \n",
       "7 10      1868996   DURANGO 0          2020-03-03 03  03  2020 Mar    \n",
       "8 10      1868996   DURANGO 0          2020-03-04 04  03  2020 Mar    \n",
       "  infectadosnew consecutivo dia_sem dias_txt \n",
       "1 0             1           1       Miercoles\n",
       "2 0             2           2       Jueves   \n",
       "3 0             3           3       Viernes  \n",
       "6 0             4           6       Lunes    \n",
       "7 0             5           7       Martes   \n",
       "8 0             6           1       Miercoles"
      ]
     },
     "metadata": {},
     "output_type": "display_data"
    }
   ],
   "source": [
    "consecutivo <- 1:310\n",
    "dia_sem <- 1:7\n",
    "a<-cbind(consecutivo,dia_sem)\n",
    "\n",
    "#DURANGO DB\n",
    "datosDgo <- datos[,-10] %>%  #quitamos el consecutivo original de los datos\n",
    "    filter(año==\"2020\")%>%\n",
    "    filter(nombre==\"DURANGO\")%>%\n",
    "    mutate(infectadosnew=(infectados/poblacion)*100000)%>%\n",
    "    cbind(a)%>%\n",
    "    mutate(dias_txt = cod_dias(as.integer(dia_sem)))\n",
    "    \n",
    "# Quitar los dias sabados y domingos \n",
    "datosDgo$infectados[(datosDgo$dia_sem %% 4) == 0 ] <- NA\n",
    "datosDgo$infectados[(datosDgo$dia_sem %% 5) == 0 ] <- NA\n",
    "\n",
    "datosDgoLV <-datosDgo[complete.cases(datosDgo),] %>%\n",
    "    mutate(consecutivo=1:222)\n",
    "\n",
    "#ZACATECAS DB\n",
    "datosZac<- datos[,-10] %>%\n",
    "    filter(año==\"2020\")%>%\n",
    "    filter(nombre==\"ZACATECAS\")%>%\n",
    "    mutate(infectadosnew=(infectados/poblacion)*100000)%>%\n",
    "    cbind(a)%>%\n",
    "    mutate(dias_txt = cod_dias(as.integer(dia_sem)))\n",
    "\n",
    "datosZac$infectados[(datosZac$dia_sem %% 4) == 0 ] <- NA\n",
    "datosZac$infectados[(datosZac$dia_sem %% 5) == 0 ] <- NA\n",
    "\n",
    "datosZacLV <-datosZac[complete.cases(datosZac),]%>%\n",
    "    mutate(consecutivo=1:222)\n",
    "\n",
    "# QUERETARO DB\n",
    "datosQro<- datos[,-10] %>%\n",
    "    filter(año==\"2020\")%>%\n",
    "    filter(nombre==\"QUERETARO\")%>%\n",
    "    mutate(infectadosnew=(infectados/poblacion)*100000)%>%\n",
    "    cbind(a)%>%\n",
    "    mutate(dias_txt = cod_dias(as.integer(dia_sem)))\n",
    "\n",
    "datosQro$infectados[(datosQro$dia_sem %% 4) == 0 ] <- NA\n",
    "datosQro$infectados[(datosQro$dia_sem %% 5) == 0 ] <- NA\n",
    "\n",
    "datosQroLV <-datosQro[complete.cases(datosQro),]%>%\n",
    "    mutate(consecutivo=1:222)\n",
    "\n",
    "head(datosDgoLV)\n",
    "#head(datosZac)\n",
    "#head(datosQro)"
   ]
  },
  {
   "cell_type": "code",
   "execution_count": 84,
   "metadata": {
    "vscode": {
     "languageId": "r"
    }
   },
   "outputs": [
    {
     "data": {
      "text/html": [
       "<table class=\"dataframe\">\n",
       "<caption>A data.frame: 6 × 5</caption>\n",
       "<thead>\n",
       "\t<tr><th></th><th scope=col>consecutivo</th><th scope=col>poblacion</th><th scope=col>infectadosnew</th><th scope=col>minim</th><th scope=col>maxim</th></tr>\n",
       "\t<tr><th></th><th scope=col>&lt;dbl&gt;</th><th scope=col>&lt;dbl&gt;</th><th scope=col>&lt;dbl&gt;</th><th scope=col>&lt;dbl&gt;</th><th scope=col>&lt;dbl&gt;</th></tr>\n",
       "</thead>\n",
       "<tbody>\n",
       "\t<tr><th scope=row>1</th><td>0.000000000</td><td>1</td><td>0</td><td>1</td><td>2.220000e+02</td></tr>\n",
       "\t<tr><th scope=row>2</th><td>0.004524887</td><td>1</td><td>0</td><td>0</td><td>1.868996e+06</td></tr>\n",
       "\t<tr><th scope=row>3</th><td>0.009049774</td><td>1</td><td>0</td><td>0</td><td>2.306051e+01</td></tr>\n",
       "\t<tr><th scope=row>6</th><td>0.013574661</td><td>1</td><td>0</td><td>1</td><td>2.220000e+02</td></tr>\n",
       "\t<tr><th scope=row>7</th><td>0.018099548</td><td>1</td><td>0</td><td>0</td><td>1.868996e+06</td></tr>\n",
       "\t<tr><th scope=row>8</th><td>0.022624434</td><td>1</td><td>0</td><td>0</td><td>2.306051e+01</td></tr>\n",
       "</tbody>\n",
       "</table>\n"
      ],
      "text/latex": [
       "A data.frame: 6 × 5\n",
       "\\begin{tabular}{r|lllll}\n",
       "  & consecutivo & poblacion & infectadosnew & minim & maxim\\\\\n",
       "  & <dbl> & <dbl> & <dbl> & <dbl> & <dbl>\\\\\n",
       "\\hline\n",
       "\t1 & 0.000000000 & 1 & 0 & 1 & 2.220000e+02\\\\\n",
       "\t2 & 0.004524887 & 1 & 0 & 0 & 1.868996e+06\\\\\n",
       "\t3 & 0.009049774 & 1 & 0 & 0 & 2.306051e+01\\\\\n",
       "\t6 & 0.013574661 & 1 & 0 & 1 & 2.220000e+02\\\\\n",
       "\t7 & 0.018099548 & 1 & 0 & 0 & 1.868996e+06\\\\\n",
       "\t8 & 0.022624434 & 1 & 0 & 0 & 2.306051e+01\\\\\n",
       "\\end{tabular}\n"
      ],
      "text/markdown": [
       "\n",
       "A data.frame: 6 × 5\n",
       "\n",
       "| <!--/--> | consecutivo &lt;dbl&gt; | poblacion &lt;dbl&gt; | infectadosnew &lt;dbl&gt; | minim &lt;dbl&gt; | maxim &lt;dbl&gt; |\n",
       "|---|---|---|---|---|---|\n",
       "| 1 | 0.000000000 | 1 | 0 | 1 | 2.220000e+02 |\n",
       "| 2 | 0.004524887 | 1 | 0 | 0 | 1.868996e+06 |\n",
       "| 3 | 0.009049774 | 1 | 0 | 0 | 2.306051e+01 |\n",
       "| 6 | 0.013574661 | 1 | 0 | 1 | 2.220000e+02 |\n",
       "| 7 | 0.018099548 | 1 | 0 | 0 | 1.868996e+06 |\n",
       "| 8 | 0.022624434 | 1 | 0 | 0 | 2.306051e+01 |\n",
       "\n"
      ],
      "text/plain": [
       "  consecutivo poblacion infectadosnew minim maxim       \n",
       "1 0.000000000 1         0             1     2.220000e+02\n",
       "2 0.004524887 1         0             0     1.868996e+06\n",
       "3 0.009049774 1         0             0     2.306051e+01\n",
       "6 0.013574661 1         0             1     2.220000e+02\n",
       "7 0.018099548 1         0             0     1.868996e+06\n",
       "8 0.022624434 1         0             0     2.306051e+01"
      ]
     },
     "metadata": {},
     "output_type": "display_data"
    }
   ],
   "source": [
    "# Normalizacion de los datos\n",
    "\n",
    "normalizating <- function(data){\n",
    "    minim <- data %>%\n",
    "        apply(2,min) #por columnas\n",
    "    minim[2]<-0\n",
    "\n",
    "    maxim <- data %>%\n",
    "        apply(2,max) #por columnas\n",
    "\n",
    "    NData <- scale(data, center=minim, scale = maxim-minim)\n",
    "    NormData <- data.frame(NData,minim,maxim)\n",
    "    return(NormData)\n",
    "}\n",
    "NormDgo <-normalizating(select(datosDgoLV,consecutivo, poblacion, infectadosnew))\n",
    "NormZac <-normalizating(select(datosZacLV,consecutivo, poblacion, infectadosnew))\n",
    "NormQro <-normalizating(select(datosQroLV,consecutivo, poblacion, infectadosnew))\n",
    "\n",
    "head(NormDgo)\n"
   ]
  },
  {
   "cell_type": "markdown",
   "metadata": {},
   "source": [
    "Diseño del perceptron"
   ]
  },
  {
   "cell_type": "code",
   "execution_count": 85,
   "metadata": {
    "vscode": {
     "languageId": "r"
    }
   },
   "outputs": [
    {
     "data": {
      "image/png": "[encoded data removed]",
      "text/plain": [
       "plot without title"
      ]
     },
     "metadata": {
      "image/png": {
       "height": 420,
       "width": 420
      }
     },
     "output_type": "display_data"
    }
   ],
   "source": [
    "f <- as.formula(infectadosnew ~ consecutivo)\n",
    "\n",
    "nnet <- neuralnet(f, data=NormDgo,\n",
    "        hidden = c(10,10),\n",
    "        threshold = 0.05,\n",
    "        algorithm = \"rprop+\",\n",
    "        stepmax = 10000,\n",
    "        rep = 1,\n",
    "        act.fct = \"tanh\" )\n",
    "\n",
    "##\n",
    "plotnet(nnet)"
   ]
  },
  {
   "cell_type": "code",
   "execution_count": 86,
   "metadata": {
    "vscode": {
     "languageId": "r"
    }
   },
   "outputs": [],
   "source": [
    "eval_nn <- predict(nnet,NormDgo[,1:2])"
   ]
  },
  {
   "cell_type": "code",
   "execution_count": 88,
   "metadata": {
    "vscode": {
     "languageId": "r"
    }
   },
   "outputs": [
    {
     "data": {
      "image/png": "[encoded data removed]",
      "text/plain": [
       "plot without title"
      ]
     },
     "metadata": {
      "image/png": {
       "height": 420,
       "width": 420
      }
     },
     "output_type": "display_data"
    }
   ],
   "source": [
    "resultado <- data.frame(\n",
    "    nombre =\"predicho\",\n",
    "    consecutivo= 1:222,\n",
    "    infectados = ( eval_nn * (NormDgo$maxim[3]-NormDgo$minim[3]) + NormDgo$minim[3] )* NormDgo$maxim[2]/100000\n",
    ")\n",
    "#resultado\n",
    "\n",
    "datosDgoLVs <- datosDgoLV %>% select(nombre,consecutivo,infectados)\n",
    "resultado <- rbind(resultado,datosDgoLVs) # unimos prediccion y datos nacionales en una columna\n",
    "\n",
    "resultado %>% ggplot(aes(x=consecutivo, y =infectados,group=nombre, color=nombre))+\n",
    "    geom_point()+ geom_line()"
   ]
  },
  {
   "cell_type": "code",
   "execution_count": 89,
   "metadata": {
    "vscode": {
     "languageId": "r"
    }
   },
   "outputs": [
    {
     "data": {
      "text/html": [
       "16.0465452114522"
      ],
      "text/latex": [
       "16.0465452114522"
      ],
      "text/markdown": [
       "16.0465452114522"
      ],
      "text/plain": [
       "[1] 16.04655"
      ]
     },
     "metadata": {},
     "output_type": "display_data"
    },
    {
     "data": {
      "text/html": [
       "27.7832318657108"
      ],
      "text/latex": [
       "27.7832318657108"
      ],
      "text/markdown": [
       "27.7832318657108"
      ],
      "text/plain": [
       "[1] 27.78323"
      ]
     },
     "metadata": {},
     "output_type": "display_data"
    }
   ],
   "source": [
    "# Bias y varianza\n",
    "\n",
    "mean(abs(resultado$infectados[1:200] - datosDgoLV$infectados[1:200]))\n",
    "mean(abs(resultado$infectados[200:220] - datosDgoLV$infectados[200:220]))"
   ]
  },
  {
   "cell_type": "markdown",
   "metadata": {},
   "source": [
    "Predecir otras entidades con la rede de Durango"
   ]
  },
  {
   "cell_type": "code",
   "execution_count": 91,
   "metadata": {
    "vscode": {
     "languageId": "r"
    }
   },
   "outputs": [
    {
     "data": {
      "text/html": [
       "19.0219371315742"
      ],
      "text/latex": [
       "19.0219371315742"
      ],
      "text/markdown": [
       "19.0219371315742"
      ],
      "text/plain": [
       "[1] 19.02194"
      ]
     },
     "metadata": {},
     "output_type": "display_data"
    },
    {
     "data": {
      "text/html": [
       "47.2842754066377"
      ],
      "text/latex": [
       "47.2842754066377"
      ],
      "text/markdown": [
       "47.2842754066377"
      ],
      "text/plain": [
       "[1] 47.28428"
      ]
     },
     "metadata": {},
     "output_type": "display_data"
    },
    {
     "data": {
      "image/png": "[encoded data removed]",
      "text/plain": [
       "plot without title"
      ]
     },
     "metadata": {
      "image/png": {
       "height": 420,
       "width": 420
      }
     },
     "output_type": "display_data"
    }
   ],
   "source": [
    "# Ajuste de los datos al modelo\n",
    "eval_nn <- predict(nnet,NormZac[,1:2])\n",
    "\n",
    "#resultado\n",
    "resultado <- data.frame(\n",
    "    nombre =\"predicho\",\n",
    "    consecutivo= 1:222,\n",
    "    infectados = ( eval_nn * (NormZac$maxim[3]-NormZac$minim[3]) + NormZac$minim[3] )* NormZac$maxim[2]/100000\n",
    ")\n",
    "\n",
    "#formato largo\n",
    "datosZacLVs <- datosZacLV %>% select(nombre,consecutivo,infectados)\n",
    "resultado <- rbind(resultado,datosZacLVs) # unimos prediccion y datos nacionales en una columna\n",
    "\n",
    "resultado %>% ggplot(aes(x=consecutivo, y =infectados,group=nombre, color=nombre))+\n",
    "    geom_point()+ geom_line()\n",
    "\n",
    "# Bias y varianza\n",
    "\n",
    "mean(abs(resultado$infectados[1:200] - datosZacLV$infectados[1:200]))\n",
    "mean(abs(resultado$infectados[200:220] - datosZacLV$infectados[200:220]))"
   ]
  },
  {
   "cell_type": "code",
   "execution_count": 93,
   "metadata": {
    "vscode": {
     "languageId": "r"
    }
   },
   "outputs": [
    {
     "data": {
      "text/html": [
       "44.2085854403064"
      ],
      "text/latex": [
       "44.2085854403064"
      ],
      "text/markdown": [
       "44.2085854403064"
      ],
      "text/plain": [
       "[1] 44.20859"
      ]
     },
     "metadata": {},
     "output_type": "display_data"
    },
    {
     "data": {
      "text/html": [
       "201.047666441421"
      ],
      "text/latex": [
       "201.047666441421"
      ],
      "text/markdown": [
       "201.047666441421"
      ],
      "text/plain": [
       "[1] 201.0477"
      ]
     },
     "metadata": {},
     "output_type": "display_data"
    },
    {
     "data": {
      "image/png": "[encoded data removed]",
      "text/plain": [
       "plot without title"
      ]
     },
     "metadata": {
      "image/png": {
       "height": 420,
       "width": 420
      }
     },
     "output_type": "display_data"
    }
   ],
   "source": [
    "# Ajuste de los datos al modelo\n",
    "eval_nn <- predict(nnet,NormQro[,1:2])\n",
    "\n",
    "#resultado\n",
    "resultado <- data.frame(\n",
    "    nombre =\"predicho\",\n",
    "    consecutivo= 1:222,\n",
    "    infectados = ( eval_nn * (NormQro$maxim[3]-NormQro$minim[3]) + NormQro$minim[3] )* NormQro$maxim[2]/100000\n",
    ")\n",
    "\n",
    "#formato largo\n",
    "datosQroLVs <- datosQroLV %>% select(nombre,consecutivo,infectados)\n",
    "resultado <- rbind(resultado,datosQroLVs) # unimos prediccion y datos nacionales en una columna\n",
    "\n",
    "resultado %>% ggplot(aes(x=consecutivo, y =infectados,group=nombre, color=nombre))+\n",
    "    geom_point()+ geom_line()\n",
    "\n",
    "# Bias y varianza\n",
    "\n",
    "mean(abs(resultado$infectados[1:200] - datosQroLV$infectados[1:200]))\n",
    "mean(abs(resultado$infectados[200:220] - datosQroLV$infectados[200:220]))"
   ]
  }
 ],
 "metadata": {
  "kernelspec": {
   "display_name": "R",
   "language": "R",
   "name": "ir"
  },
  "language_info": {
   "codemirror_mode": "r",
   "file_extension": ".r",
   "mimetype": "text/x-r-source",
   "name": "R",
   "pygments_lexer": "r",
   "version": "4.2.1"
  },
  "orig_nbformat": 4,
  "vscode": {
   "interpreter": {
    "hash": "8798afc6967fe6dcc22cf06f87428510b90b9aa97c2c54f451a8b72ac0ad6005"
   }
  }
 },
 "nbformat": 4,
 "nbformat_minor": 2
}

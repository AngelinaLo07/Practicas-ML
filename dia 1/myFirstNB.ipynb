{
 "cells": [
  {
   "cell_type": "markdown",
   "id": "584f3e5e-7ce3-4916-9274-309e445a8002",
   "metadata": {},
   "source": [
    "# my first Notebook on Jupyter\n",
    "![](https://docs.microsoft.com/es-es/azure/architecture/data-guide/images/logo_r.svg)\n"
   ]
  },
  {
   "cell_type": "code",
   "execution_count": 3,
   "id": "3ffdd7c9-b981-417c-a79f-a5a133601d9c",
   "metadata": {},
   "outputs": [
    {
     "data": {
      "text/html": [
       "10"
      ],
      "text/latex": [
       "10"
      ],
      "text/markdown": [
       "10"
      ],
      "text/plain": [
       "[1] 10"
      ]
     },
     "metadata": {},
     "output_type": "display_data"
    }
   ],
   "source": [
    "a<-10\n",
    "a"
   ]
  },
  {
   "cell_type": "markdown",
   "id": "d8568fde-f651-4868-ab65-0154194fce37",
   "metadata": {
    "tags": []
   },
   "source": [
    "# Mi primera practica de ML en R\n",
    "## Analisis de sentimientos\n",
    "En este cuaderno se realiza una implementacion de un analisis de sentimientos en lenguaje R con un modelo preentrenado paquete: [SYUZHET](https://cran.r-project.org/web/packages/syuzhet/vignettes/syuzhet-vignette.html)"
   ]
  },
  {
   "cell_type": "markdown",
   "id": "9a35ac06-8b99-4028-b8e4-e610ccd2af7c",
   "metadata": {
    "tags": []
   },
   "source": [
    "## Importar biblioteca\n",
    "Descripccion ---"
   ]
  },
  {
   "cell_type": "code",
   "execution_count": null,
   "id": "5ea1a045-8795-4283-b0fc-5e23763aa071",
   "metadata": {},
   "outputs": [
    {
     "name": "stderr",
     "output_type": "stream",
     "text": [
      "Installing package into 'C:/Users/lopez/AppData/Local/R/win-library/4.2'\n",
      "(as 'lib' is unspecified)\n",
      "\n",
      "also installing the dependencies 'data.table', 'slam', 'generics', 'tidyselect', 'textshape', 'NLP', 'zoo', 'dtt', 'dplyr', 'tidyr'\n",
      "\n",
      "\n"
     ]
    }
   ],
   "source": [
    "install.packages(\"syuzhet\")\n",
    "install.packages(\"RColorBrewer\", lib = \"/srv/rlibs\")\n",
    "install.packages(\"wordcloud\", lib = \"/srv/rlibs\")\n",
    "install.packages(\"tm\", lib = \"/srv/rlibs\")\n",
    "\n",
    "\n",
    "library(syuzhet)\n",
    "library(RColorBrewer)\n",
    "library(wordcloud)\n",
    "library(tm)"
   ]
  },
  {
   "cell_type": "code",
   "execution_count": 5,
   "id": "17e85928-003e-4aee-9c35-fe0a447d5ea6",
   "metadata": {},
   "outputs": [
    {
     "data": {
      "text/html": [
       "'la vida es bella'"
      ],
      "text/latex": [
       "'la vida es bella'"
      ],
      "text/markdown": [
       "'la vida es bella'"
      ],
      "text/plain": [
       "[1] \"la vida es bella\""
      ]
     },
     "metadata": {},
     "output_type": "display_data"
    },
    {
     "data": {
      "text/html": [
       "'nada mas importa'"
      ],
      "text/latex": [
       "'nada mas importa'"
      ],
      "text/markdown": [
       "'nada mas importa'"
      ],
      "text/plain": [
       "[1] \"nada mas importa\""
      ]
     },
     "metadata": {},
     "output_type": "display_data"
    },
    {
     "data": {
      "text/html": [
       "'Vuelves, en cada sueño que tengo caigo de nuevo en tu red, sé que tarda un tiempo curarme de ti de una vez'"
      ],
      "text/latex": [
       "'Vuelves, en cada sueño que tengo caigo de nuevo en tu red, sé que tarda un tiempo curarme de ti de una vez'"
      ],
      "text/markdown": [
       "'Vuelves, en cada sueño que tengo caigo de nuevo en tu red, sé que tarda un tiempo curarme de ti de una vez'"
      ],
      "text/plain": [
       "[1] \"Vuelves, en cada sueño que tengo caigo de nuevo en tu red, sé que tarda un tiempo curarme de ti de una vez\""
      ]
     },
     "metadata": {},
     "output_type": "display_data"
    }
   ],
   "source": [
    "texto1 <- \"la vida es bella\"\n",
    "texto2 <- \"nada mas importa\"\n",
    "texto3 <- \"Vuelves, en cada sueño que tengo caigo de nuevo en tu red, sé que tarda un tiempo curarme de ti de una vez\"\n",
    "texto1\n",
    "texto2\n",
    "texto3"
   ]
  },
  {
   "cell_type": "markdown",
   "id": "8b0069f7-fbe6-4265-8315-adef21390de4",
   "metadata": {},
   "source": [
    "# Obtener los sentimientos\n",
    "uso de bayes"
   ]
  },
  {
   "cell_type": "code",
   "execution_count": 17,
   "id": "8a01917a-1735-4f36-8000-0bd55e45908a",
   "metadata": {},
   "outputs": [
    {
     "data": {
      "text/html": [
       "<table class=\"dataframe\">\n",
       "<caption>A data.frame: 1 × 10</caption>\n",
       "<thead>\n",
       "\t<tr><th scope=col>anger</th><th scope=col>anticipation</th><th scope=col>disgust</th><th scope=col>fear</th><th scope=col>joy</th><th scope=col>sadness</th><th scope=col>surprise</th><th scope=col>trust</th><th scope=col>negative</th><th scope=col>positive</th></tr>\n",
       "\t<tr><th scope=col>&lt;dbl&gt;</th><th scope=col>&lt;dbl&gt;</th><th scope=col>&lt;dbl&gt;</th><th scope=col>&lt;dbl&gt;</th><th scope=col>&lt;dbl&gt;</th><th scope=col>&lt;dbl&gt;</th><th scope=col>&lt;dbl&gt;</th><th scope=col>&lt;dbl&gt;</th><th scope=col>&lt;dbl&gt;</th><th scope=col>&lt;dbl&gt;</th></tr>\n",
       "</thead>\n",
       "<tbody>\n",
       "\t<tr><td>0</td><td>1</td><td>0</td><td>0</td><td>1</td><td>0</td><td>0</td><td>1</td><td>0</td><td>1</td></tr>\n",
       "</tbody>\n",
       "</table>\n"
      ],
      "text/latex": [
       "A data.frame: 1 × 10\n",
       "\\begin{tabular}{llllllllll}\n",
       " anger & anticipation & disgust & fear & joy & sadness & surprise & trust & negative & positive\\\\\n",
       " <dbl> & <dbl> & <dbl> & <dbl> & <dbl> & <dbl> & <dbl> & <dbl> & <dbl> & <dbl>\\\\\n",
       "\\hline\n",
       "\t 0 & 1 & 0 & 0 & 1 & 0 & 0 & 1 & 0 & 1\\\\\n",
       "\\end{tabular}\n"
      ],
      "text/markdown": [
       "\n",
       "A data.frame: 1 × 10\n",
       "\n",
       "| anger &lt;dbl&gt; | anticipation &lt;dbl&gt; | disgust &lt;dbl&gt; | fear &lt;dbl&gt; | joy &lt;dbl&gt; | sadness &lt;dbl&gt; | surprise &lt;dbl&gt; | trust &lt;dbl&gt; | negative &lt;dbl&gt; | positive &lt;dbl&gt; |\n",
       "|---|---|---|---|---|---|---|---|---|---|\n",
       "| 0 | 1 | 0 | 0 | 1 | 0 | 0 | 1 | 0 | 1 |\n",
       "\n"
      ],
      "text/plain": [
       "  anger anticipation disgust fear joy sadness surprise trust negative positive\n",
       "1 0     1            0       0    1   0       0        1     0        1       "
      ]
     },
     "metadata": {},
     "output_type": "display_data"
    },
    {
     "data": {
      "text/html": [
       "<table class=\"dataframe\">\n",
       "<caption>A data.frame: 1 × 10</caption>\n",
       "<thead>\n",
       "\t<tr><th scope=col>anger</th><th scope=col>anticipation</th><th scope=col>disgust</th><th scope=col>fear</th><th scope=col>joy</th><th scope=col>sadness</th><th scope=col>surprise</th><th scope=col>trust</th><th scope=col>negative</th><th scope=col>positive</th></tr>\n",
       "\t<tr><th scope=col>&lt;dbl&gt;</th><th scope=col>&lt;dbl&gt;</th><th scope=col>&lt;dbl&gt;</th><th scope=col>&lt;dbl&gt;</th><th scope=col>&lt;dbl&gt;</th><th scope=col>&lt;dbl&gt;</th><th scope=col>&lt;dbl&gt;</th><th scope=col>&lt;dbl&gt;</th><th scope=col>&lt;dbl&gt;</th><th scope=col>&lt;dbl&gt;</th></tr>\n",
       "</thead>\n",
       "<tbody>\n",
       "\t<tr><td>0</td><td>0</td><td>0</td><td>0</td><td>0</td><td>1</td><td>0</td><td>0</td><td>1</td><td>0</td></tr>\n",
       "</tbody>\n",
       "</table>\n"
      ],
      "text/latex": [
       "A data.frame: 1 × 10\n",
       "\\begin{tabular}{llllllllll}\n",
       " anger & anticipation & disgust & fear & joy & sadness & surprise & trust & negative & positive\\\\\n",
       " <dbl> & <dbl> & <dbl> & <dbl> & <dbl> & <dbl> & <dbl> & <dbl> & <dbl> & <dbl>\\\\\n",
       "\\hline\n",
       "\t 0 & 0 & 0 & 0 & 0 & 1 & 0 & 0 & 1 & 0\\\\\n",
       "\\end{tabular}\n"
      ],
      "text/markdown": [
       "\n",
       "A data.frame: 1 × 10\n",
       "\n",
       "| anger &lt;dbl&gt; | anticipation &lt;dbl&gt; | disgust &lt;dbl&gt; | fear &lt;dbl&gt; | joy &lt;dbl&gt; | sadness &lt;dbl&gt; | surprise &lt;dbl&gt; | trust &lt;dbl&gt; | negative &lt;dbl&gt; | positive &lt;dbl&gt; |\n",
       "|---|---|---|---|---|---|---|---|---|---|\n",
       "| 0 | 0 | 0 | 0 | 0 | 1 | 0 | 0 | 1 | 0 |\n",
       "\n"
      ],
      "text/plain": [
       "  anger anticipation disgust fear joy sadness surprise trust negative positive\n",
       "1 0     0            0       0    0   1       0        0     1        0       "
      ]
     },
     "metadata": {},
     "output_type": "display_data"
    },
    {
     "data": {
      "text/html": [
       "<table class=\"dataframe\">\n",
       "<caption>A data.frame: 1 × 10</caption>\n",
       "<thead>\n",
       "\t<tr><th scope=col>anger</th><th scope=col>anticipation</th><th scope=col>disgust</th><th scope=col>fear</th><th scope=col>joy</th><th scope=col>sadness</th><th scope=col>surprise</th><th scope=col>trust</th><th scope=col>negative</th><th scope=col>positive</th></tr>\n",
       "\t<tr><th scope=col>&lt;dbl&gt;</th><th scope=col>&lt;dbl&gt;</th><th scope=col>&lt;dbl&gt;</th><th scope=col>&lt;dbl&gt;</th><th scope=col>&lt;dbl&gt;</th><th scope=col>&lt;dbl&gt;</th><th scope=col>&lt;dbl&gt;</th><th scope=col>&lt;dbl&gt;</th><th scope=col>&lt;dbl&gt;</th><th scope=col>&lt;dbl&gt;</th></tr>\n",
       "</thead>\n",
       "<tbody>\n",
       "\t<tr><td>0</td><td>2</td><td>0</td><td>0</td><td>0</td><td>0</td><td>0</td><td>0</td><td>0</td><td>0</td></tr>\n",
       "</tbody>\n",
       "</table>\n"
      ],
      "text/latex": [
       "A data.frame: 1 × 10\n",
       "\\begin{tabular}{llllllllll}\n",
       " anger & anticipation & disgust & fear & joy & sadness & surprise & trust & negative & positive\\\\\n",
       " <dbl> & <dbl> & <dbl> & <dbl> & <dbl> & <dbl> & <dbl> & <dbl> & <dbl> & <dbl>\\\\\n",
       "\\hline\n",
       "\t 0 & 2 & 0 & 0 & 0 & 0 & 0 & 0 & 0 & 0\\\\\n",
       "\\end{tabular}\n"
      ],
      "text/markdown": [
       "\n",
       "A data.frame: 1 × 10\n",
       "\n",
       "| anger &lt;dbl&gt; | anticipation &lt;dbl&gt; | disgust &lt;dbl&gt; | fear &lt;dbl&gt; | joy &lt;dbl&gt; | sadness &lt;dbl&gt; | surprise &lt;dbl&gt; | trust &lt;dbl&gt; | negative &lt;dbl&gt; | positive &lt;dbl&gt; |\n",
       "|---|---|---|---|---|---|---|---|---|---|\n",
       "| 0 | 2 | 0 | 0 | 0 | 0 | 0 | 0 | 0 | 0 |\n",
       "\n"
      ],
      "text/plain": [
       "  anger anticipation disgust fear joy sadness surprise trust negative positive\n",
       "1 0     2            0       0    0   0       0        0     0        0       "
      ]
     },
     "metadata": {},
     "output_type": "display_data"
    }
   ],
   "source": [
    "sent1 <- get_nrc_sentiment(texto1, lang=\"spanish\"); sent1\n",
    "sent2 <- get_nrc_sentiment(texto2, lang=\"spanish\"); sent2\n",
    "sent3 <- get_nrc_sentiment(texto3, lang=\"spanish\"); sent3"
   ]
  },
  {
   "cell_type": "code",
   "execution_count": 20,
   "id": "e2687df1-6b7b-4a4b-9278-a570e9ab4bfb",
   "metadata": {},
   "outputs": [
    {
     "data": {
      "image/png": "[encoded data removed]",
      "text/plain": [
       "Plot with title “Análsisi de sentimientos”"
      ]
     },
     "metadata": {
      "image/png": {
       "height": 420,
       "width": 420
      }
     },
     "output_type": "display_data"
    }
   ],
   "source": [
    "barplot(\n",
    "    colSums(prop.table(sent1[,1:10])),\n",
    "    col = brewer.pal( n=10, name =\"Set3\"),\n",
    "    main = \"Análsisi de sentimientos\",\n",
    "    xlab=\"sentimientos\", ylab=NULL)\n"
   ]
  },
  {
   "cell_type": "code",
   "execution_count": null,
   "id": "124fc18e-ed20-4d9e-9a82-c436ec6c5bc5",
   "metadata": {},
   "outputs": [],
   "source": []
  }
 ],
 "metadata": {
  "kernelspec": {
   "display_name": "R",
   "language": "R",
   "name": "ir"
  },
  "language_info": {
   "codemirror_mode": "r",
   "file_extension": ".r",
   "mimetype": "text/x-r-source",
   "name": "R",
   "pygments_lexer": "r",
   "version": "4.2.1"
  }
 },
 "nbformat": 4,
 "nbformat_minor": 5
}

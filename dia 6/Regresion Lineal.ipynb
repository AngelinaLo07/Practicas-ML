{
 "cells": [
  {
   "cell_type": "markdown",
   "id": "7d75ca00-5b19-4025-b38f-e76ceab3bab1",
   "metadata": {},
   "source": [
    "# Regresion lineal simple"
   ]
  },
  {
   "cell_type": "code",
   "execution_count": 2,
   "id": "f5ae8b6b-032d-4921-870a-45f821fd8028",
   "metadata": {
    "vscode": {
     "languageId": "r"
    }
   },
   "outputs": [
    {
     "name": "stderr",
     "output_type": "stream",
     "text": [
      "── \u001b[1mAttaching packages\u001b[22m ─────────────────────────────────────── tidyverse 1.3.1 ──\n",
      "\n",
      "\u001b[32m✔\u001b[39m \u001b[34mggplot2\u001b[39m 3.3.6     \u001b[32m✔\u001b[39m \u001b[34mpurrr  \u001b[39m 0.3.4\n",
      "\u001b[32m✔\u001b[39m \u001b[34mtibble \u001b[39m 3.1.7     \u001b[32m✔\u001b[39m \u001b[34mdplyr  \u001b[39m 1.0.9\n",
      "\u001b[32m✔\u001b[39m \u001b[34mtidyr  \u001b[39m 1.2.0     \u001b[32m✔\u001b[39m \u001b[34mstringr\u001b[39m 1.4.0\n",
      "\u001b[32m✔\u001b[39m \u001b[34mreadr  \u001b[39m 2.1.2     \u001b[32m✔\u001b[39m \u001b[34mforcats\u001b[39m 0.5.1\n",
      "\n",
      "── \u001b[1mConflicts\u001b[22m ────────────────────────────────────────── tidyverse_conflicts() ──\n",
      "\u001b[31m✖\u001b[39m \u001b[34mdplyr\u001b[39m::\u001b[32mfilter()\u001b[39m masks \u001b[34mstats\u001b[39m::filter()\n",
      "\u001b[31m✖\u001b[39m \u001b[34mdplyr\u001b[39m::\u001b[32mlag()\u001b[39m    masks \u001b[34mstats\u001b[39m::lag()\n",
      "\n",
      "\n",
      "Attaching package: 'plotly'\n",
      "\n",
      "\n",
      "The following object is masked from 'package:ggplot2':\n",
      "\n",
      "    last_plot\n",
      "\n",
      "\n",
      "The following object is masked from 'package:stats':\n",
      "\n",
      "    filter\n",
      "\n",
      "\n",
      "The following object is masked from 'package:graphics':\n",
      "\n",
      "    layout\n",
      "\n",
      "\n"
     ]
    }
   ],
   "source": [
    "library(tidyverse)\n",
    "library(gifski)\n",
    "library(tidyverse)\n",
    "library(gganimate)\n",
    "library(plotly)\n",
    "library(RColorBrewer)\n",
    "library(wesanderson)"
   ]
  },
  {
   "cell_type": "markdown",
   "id": "35bd0986-b9cb-40c6-9701-069cfe49ab8a",
   "metadata": {},
   "source": [
    "### Datos de la sesion pasada"
   ]
  },
  {
   "cell_type": "code",
   "execution_count": 3,
   "id": "5283abe8-a3df-4d5b-89aa-4fa20756d60c",
   "metadata": {
    "vscode": {
     "languageId": "r"
    }
   },
   "outputs": [],
   "source": [
    "casos_diarios <-  read.csv(file = \"Casos_Diarios_Estado_Nacional.csv\")\n",
    "casos_diario_list <- gather(casos_diarios,key =\"dias\",value=\"infectados\",4:856)\n",
    "\n",
    "normalizarfecha <- function(fecha){\n",
    "return(str_replace_all(fecha,\"X\",\"\")  %>% str_replace_all(\"\\\\.\",\"/\"))\n",
    "}\n",
    "\n",
    "cod_Meses <- function(x) {\n",
    "\n",
    "labels_meses <- c(\n",
    "    \"Ene\",\"Feb\",\"Mar\",\"Abr\",\"May\",\"Jun\",\n",
    "    \"Jul\",\"Ago\",\"Sep\",\"Oct\",\"Nov\",\"Dic\")\n",
    "\n",
    "    return(factor(x,levels = (1:12),labels = labels_meses))\n",
    "    \n",
    "    }\n",
    "\n",
    "fecha = map(casos_diario_list[4],normalizarfecha)\n",
    "casos_diarios_fecha <- cbind(casos_diario_list[c(TRUE,TRUE,TRUE,FALSE,TRUE)],fecha)\n",
    "casos_diarios_fecha <- casos_diarios_fecha[c(1,2,3,5,4)]\n",
    "\n",
    "datos <- separate( data = casos_diarios_fecha,\n",
    "                   col =dias,\n",
    "                   into = c(\"dia\",\"mes\",\"año\"),\n",
    "                   sep = '/',\n",
    "                   remove = FALSE)\n",
    "#recordatorio\n",
    "datos <- datos %>% mutate(mest_txt = cod_Meses(as.integer(mes)))\n"
   ]
  }
 ],
 "metadata": {
  "kernelspec": {
   "display_name": "R",
   "language": "R",
   "name": "ir"
  },
  "language_info": {
   "codemirror_mode": "r",
   "file_extension": ".r",
   "mimetype": "text/x-r-source",
   "name": "R",
   "pygments_lexer": "r",
   "version": "4.2.1"
  }
 },
 "nbformat": 4,
 "nbformat_minor": 5
}
